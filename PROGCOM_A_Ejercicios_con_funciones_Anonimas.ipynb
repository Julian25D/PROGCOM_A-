{
  "nbformat": 4,
  "nbformat_minor": 0,
  "metadata": {
    "colab": {
      "provenance": []
    },
    "kernelspec": {
      "name": "python3",
      "display_name": "Python 3"
    },
    "language_info": {
      "name": "python"
    }
  },
  "cells": [
    {
      "cell_type": "code",
      "execution_count": 6,
      "metadata": {
        "colab": {
          "base_uri": "https://localhost:8080/"
        },
        "id": "8DfQn_sqK8kO",
        "outputId": "5b81754b-ac0d-46e6-a00d-3d38e10ec011"
      },
      "outputs": [
        {
          "output_type": "stream",
          "name": "stdout",
          "text": [
            "8\n"
          ]
        }
      ],
      "source": [
        "#Crea un programa que calcule la potencia de un número sin usar el operador **.\n",
        "\n",
        "def potencia(base, exponente):\n",
        "    resultado = 1\n",
        "    for _ in range(abs(exponente)):\n",
        "        resultado *= base\n",
        "    if exponente < 0:\n",
        "        return 1 / resultado\n",
        "    return resultado\n",
        "base = 2\n",
        "exponente = 3\n",
        "print(potencia(base, exponente))\n"
      ]
    },
    {
      "cell_type": "code",
      "source": [
        "#Crea un programa que calcule la potencia de un número sin usar el operador **. con lambda.\n",
        "\n",
        "potencia_lambda = lambda base, exponente: 1 / (base**-exponente) if exponente < 0 else base * potencia_lambda(base, exponente-1) if exponente > 0 else 1\n",
        "\n",
        "# Ejemplo de uso\n",
        "base = 2\n",
        "exponente = 3\n",
        "print(potencia_lambda(base, exponente))  # Salida: 8\n"
      ],
      "metadata": {
        "colab": {
          "base_uri": "https://localhost:8080/"
        },
        "id": "PGLvplNvLizD",
        "outputId": "64c9064d-1905-4ccf-cef5-c8973767c765"
      },
      "execution_count": 7,
      "outputs": [
        {
          "output_type": "stream",
          "name": "stdout",
          "text": [
            "8\n"
          ]
        }
      ]
    },
    {
      "cell_type": "code",
      "source": [
        "# Programa para mostrar la tabla de multiplicar de un número hasta el 10\n",
        "\n",
        "while True:\n",
        "    try:\n",
        "        num = int(input(\"Ingresa un número para mostrar su tabla de multiplicar: \"))\n",
        "\n",
        "        # Mostrar la tabla de multiplicar del número\n",
        "        print(f\"\\nTabla de multiplicar de {num}:\")\n",
        "        for i in range(1, 11):\n",
        "            print(f\"{num} x {i} = {num * i}\")\n",
        "\n",
        "        # Preguntar si el usuario desea realizar otra operación\n",
        "        otra_tabla = input(\"\\n¿Quieres ver otra tabla de multiplicar? (sí/no): \").lower()\n",
        "        if otra_tabla != \"sí\":\n",
        "            print(\"¡Gracias por usar el programa! Adiós.\")\n",
        "            break\n",
        "\n",
        "    except ValueError:\n",
        "        print(\"Por favor, ingresa un número válido. Intenta nuevamente.\")\n"
      ],
      "metadata": {
        "colab": {
          "base_uri": "https://localhost:8080/"
        },
        "id": "LEbSWWXdMDlC",
        "outputId": "0f2b6fec-a437-4e57-c04d-42d34c3f4ed5"
      },
      "execution_count": 9,
      "outputs": [
        {
          "output_type": "stream",
          "name": "stdout",
          "text": [
            "Ingresa un número para mostrar su tabla de multiplicar: 5\n",
            "\n",
            "Tabla de multiplicar de 5:\n",
            "5 x 1 = 5\n",
            "5 x 2 = 10\n",
            "5 x 3 = 15\n",
            "5 x 4 = 20\n",
            "5 x 5 = 25\n",
            "5 x 6 = 30\n",
            "5 x 7 = 35\n",
            "5 x 8 = 40\n",
            "5 x 9 = 45\n",
            "5 x 10 = 50\n",
            "\n",
            "¿Quieres ver otra tabla de multiplicar? (sí/no): no\n",
            "¡Gracias por usar el programa! Adiós.\n"
          ]
        }
      ]
    },
    {
      "cell_type": "code",
      "source": [
        "# Programa para mostrar la tabla de multiplicar de un número hasta el 10\n",
        "while True:\n",
        "    try:\n",
        "        num = int(input(\"Ingresa un número para mostrar su tabla de multiplicar: \"))\n",
        "\n",
        "        # Función lambda para mostrar la tabla de multiplicar\n",
        "        mostrar_tabla = lambda num: [print(f\"{num} x {i} = {num * i}\") for i in range(1, 11)]\n",
        "\n",
        "        # Mostrar la tabla de multiplicar del número\n",
        "        print(f\"\\nTabla de multiplicar de {num}:\")\n",
        "        mostrar_tabla(num)\n",
        "\n",
        "        # Preguntar si el usuario desea realizar otra operación\n",
        "        otra_tabla = input(\"\\n¿Quieres ver otra tabla de multiplicar? (sí/no): \").lower()\n",
        "        if otra_tabla != \"sí\":\n",
        "            print(\"¡Gracias por usar el programa! Adiós.\")\n",
        "            break\n",
        "\n",
        "    except ValueError:\n",
        "        print(\"Por favor, ingresa un número válido. Intenta nuevamente.\")\n"
      ],
      "metadata": {
        "colab": {
          "base_uri": "https://localhost:8080/"
        },
        "id": "VF4ARNpcNC8y",
        "outputId": "afa2e9aa-6c5a-409f-c2c6-cdda9c0120d1"
      },
      "execution_count": 10,
      "outputs": [
        {
          "output_type": "stream",
          "name": "stdout",
          "text": [
            "Ingresa un número para mostrar su tabla de multiplicar: 5\n",
            "\n",
            "Tabla de multiplicar de 5:\n",
            "5 x 1 = 5\n",
            "5 x 2 = 10\n",
            "5 x 3 = 15\n",
            "5 x 4 = 20\n",
            "5 x 5 = 25\n",
            "5 x 6 = 30\n",
            "5 x 7 = 35\n",
            "5 x 8 = 40\n",
            "5 x 9 = 45\n",
            "5 x 10 = 50\n",
            "\n",
            "¿Quieres ver otra tabla de multiplicar? (sí/no): no\n",
            "¡Gracias por usar el programa! Adiós.\n"
          ]
        }
      ]
    },
    {
      "cell_type": "code",
      "source": [
        "# Programa para calcular la suma de números naturales hasta n\n",
        "\n",
        "while True:\n",
        "    try:\n",
        "        n = int(input(\"Ingresa un número entero positivo (n): \"))\n",
        "\n",
        "        # Validar que n sea positivo\n",
        "        if n < 1:\n",
        "            print(\"El número debe ser mayor o igual a 1. Intenta nuevamente.\")\n",
        "            continue\n",
        "\n",
        "        # Calcular la suma de los primeros n números naturales\n",
        "        suma = 0\n",
        "        for i in range(1, n + 1):\n",
        "            suma += i\n",
        "\n",
        "        print(f\"\\nLa suma de los números naturales hasta {n} es: {suma}\")\n",
        "\n",
        "        # Preguntar si el usuario desea realizar otro cálculo\n",
        "        otra_suma = input(\"\\n¿Quieres calcular la suma hasta otro número? (sí/no): \").lower()\n",
        "        if otra_suma != \"sí\":\n",
        "            print(\"¡Gracias por usar el programa! Adiós.\")\n",
        "            break\n",
        "\n",
        "    except ValueError:\n",
        "        print(\"Por favor, ingresa un número válido. Intenta nuevamente.\")"
      ],
      "metadata": {
        "colab": {
          "base_uri": "https://localhost:8080/"
        },
        "id": "mi3A7iSkNYCB",
        "outputId": "cf2d9bbb-ffdc-44fa-b4fb-6bc0bb9d0323"
      },
      "execution_count": 11,
      "outputs": [
        {
          "output_type": "stream",
          "name": "stdout",
          "text": [
            "Ingresa un número entero positivo (n): 4\n",
            "\n",
            "La suma de los números naturales hasta 4 es: 10\n",
            "\n",
            "¿Quieres calcular la suma hasta otro número? (sí/no): no\n",
            "¡Gracias por usar el programa! Adiós.\n"
          ]
        }
      ]
    },
    {
      "cell_type": "code",
      "source": [
        "# Programa para calcular la suma de números naturales hasta n\n",
        "while True:\n",
        "    try:\n",
        "        n = int(input(\"Ingresa un número entero positivo (n): \"))\n",
        "\n",
        "        # Validar que n sea positivo\n",
        "        if n < 1:\n",
        "            print(\"El número debe ser mayor o igual a 1. Intenta nuevamente.\")\n",
        "            continue\n",
        "\n",
        "        # Función lambda para calcular la suma de los primeros n números naturales\n",
        "        suma = (lambda n: sum(range(1, n + 1)))(n)\n",
        "\n",
        "        print(f\"\\nLa suma de los números naturales hasta {n} es: {suma}\")\n",
        "\n",
        "        # Preguntar si el usuario desea realizar otro cálculo\n",
        "        otra_suma = input(\"\\n¿Quieres calcular la suma hasta otro número? (sí/no): \").lower()\n",
        "        if otra_suma != \"sí\":\n",
        "            print(\"¡Gracias por usar el programa! Adiós.\")\n",
        "            break\n",
        "\n",
        "    except ValueError:\n",
        "        print(\"Por favor, ingresa un número válido. Intenta nuevamente.\")\n"
      ],
      "metadata": {
        "colab": {
          "base_uri": "https://localhost:8080/"
        },
        "id": "NTGPvWRVNifA",
        "outputId": "5ab3dc47-94b4-4d39-9063-cdd1fd34e600"
      },
      "execution_count": 12,
      "outputs": [
        {
          "output_type": "stream",
          "name": "stdout",
          "text": [
            "Ingresa un número entero positivo (n): 4\n",
            "\n",
            "La suma de los números naturales hasta 4 es: 10\n",
            "\n",
            "¿Quieres calcular la suma hasta otro número? (sí/no): no\n",
            "¡Gracias por usar el programa! Adiós.\n"
          ]
        }
      ]
    },
    {
      "cell_type": "code",
      "source": [
        "# Programa para calcular el factorial de un número\n",
        "\n",
        "while True:\n",
        "    try:\n",
        "        num = int(input(\"Ingresa un número para calcular su factorial: \"))\n",
        "\n",
        "        # Validar que el número no sea negativo\n",
        "        if num < 0:\n",
        "            print(\"El factorial no está definido para números negativos. Intenta nuevamente.\")\n",
        "            continue\n",
        "\n",
        "        # Calcular el factorial utilizando un ciclo for\n",
        "        factorial = 1\n",
        "        for i in range(1, num + 1):\n",
        "            factorial *= i\n",
        "\n",
        "        print(f\"\\nEl factorial de {num} es: {factorial}\")\n",
        "\n",
        "        # Preguntar si el usuario desea calcular otro factorial\n",
        "        otro_factorial = input(\"\\n¿Quieres calcular el factorial de otro número? (sí/no): \").lower()\n",
        "        if otro_factorial != \"sí\":\n",
        "            print(\"¡Gracias por usar el programa! Adiós.\")\n",
        "            break\n",
        "\n",
        "    except ValueError:\n",
        "        print(\"Por favor, ingresa un número válido. Intenta nuevamente.\")"
      ],
      "metadata": {
        "colab": {
          "base_uri": "https://localhost:8080/"
        },
        "id": "p1GGniSZNkiQ",
        "outputId": "e9058ea8-9610-4caf-f5a1-902e5ffd4ccf"
      },
      "execution_count": 14,
      "outputs": [
        {
          "output_type": "stream",
          "name": "stdout",
          "text": [
            "Ingresa un número para calcular su factorial: 4\n",
            "\n",
            "El factorial de 4 es: 24\n",
            "\n",
            "¿Quieres calcular el factorial de otro número? (sí/no): no\n",
            "¡Gracias por usar el programa! Adiós.\n"
          ]
        }
      ]
    },
    {
      "cell_type": "code",
      "source": [
        "# Programa para calcular el factorial de un número\n",
        "\n",
        "while True:\n",
        "    try:\n",
        "        num = int(input(\"Ingresa un número para calcular su factorial: \"))\n",
        "\n",
        "        # Validar que el número no sea negativo\n",
        "        if num < 0:\n",
        "            print(\"El factorial no está definido para números negativos. Intenta nuevamente.\")\n",
        "            continue\n",
        "\n",
        "        # Calcular el factorial utilizando lambda y reduce\n",
        "        factorial = reduce(lambda x, y: x * y, range(1, num + 1), 1)\n",
        "\n",
        "        print(f\"\\nEl factorial de {num} es: {factorial}\")\n",
        "\n",
        "        # Preguntar si el usuario desea calcular otro factorial\n",
        "        otro_factorial = input(\"\\n¿Quieres calcular el factorial de otro número? (sí/no): \").lower()\n",
        "        if otro_factorial != \"sí\":\n",
        "            print(\"¡Gracias por usar el programa! Adiós.\")\n",
        "            break\n",
        "\n",
        "    except ValueError:\n",
        "        print(\"Por favor, ingresa un número válido. Intenta nuevamente.\")\n"
      ],
      "metadata": {
        "colab": {
          "base_uri": "https://localhost:8080/"
        },
        "id": "eQLppykzOEMo",
        "outputId": "6418fd9b-f075-4f1a-de26-2c605f16ecba"
      },
      "execution_count": 15,
      "outputs": [
        {
          "output_type": "stream",
          "name": "stdout",
          "text": [
            "Ingresa un número para calcular su factorial: 4\n",
            "\n",
            "El factorial de 4 es: 24\n",
            "\n",
            "¿Quieres calcular el factorial de otro número? (sí/no): no\n",
            "¡Gracias por usar el programa! Adiós.\n"
          ]
        }
      ]
    },
    {
      "cell_type": "code",
      "source": [
        "#Crea un programa que genere un patrón de diamante con asteriscos.\n",
        "def generar_diamante(filas):\n",
        "    for i in range(filas):\n",
        "\n",
        "        print(\" \" * (filas - i - 1) + \"*\" * (2 * i + 1))\n",
        "\n",
        "    for i in range(filas - 2, -1, -1):\n",
        "\n",
        "        print(\" \" * (filas - i - 1) + \"*\" * (2 * i + 1))\n",
        "\n",
        "try:\n",
        "    filas = int(input(\"Ingresa el número de filas para el diamante: \"))\n",
        "    if filas < 1:\n",
        "        print(\"Por favor, ingresa un número positivo mayor que 0.\")\n",
        "    else:\n",
        "        generar_diamante(filas)\n",
        "except ValueError:\n",
        "    print(\"Por favor, ingresa un número válido.\")\n"
      ],
      "metadata": {
        "colab": {
          "base_uri": "https://localhost:8080/"
        },
        "id": "lTtArpCzO_A_",
        "outputId": "e3270688-f901-43d5-f9de-7a9337464290"
      },
      "execution_count": 16,
      "outputs": [
        {
          "output_type": "stream",
          "name": "stdout",
          "text": [
            "Ingresa el número de filas para el diamante: 2\n",
            " *\n",
            "***\n",
            " *\n"
          ]
        }
      ]
    },
    {
      "cell_type": "code",
      "source": [
        "#Crea un programa que genere un patrón de diamante con asteriscos.\n",
        "def generar_diamante_lambda(filas):\n",
        "\n",
        "    [print(\" \" * (filas - i - 1) + \"*\" * (2 * i + 1)) for i in range(filas)]\n",
        "\n",
        "    [print(\" \" * (filas - i - 1) + \"*\" * (2 * i + 1)) for i in range(filas - 2, -1, -1)]\n",
        "\n",
        "try:\n",
        "    filas = int(input(\"Ingresa el número de filas para el diamante: \"))\n",
        "    if filas < 1:\n",
        "        print(\"Por favor, ingresa un número positivo mayor que 0.\")\n",
        "    else:\n",
        "        generar_diamante_lambda(filas)\n",
        "except ValueError:\n",
        "    print(\"Por favor, ingresa un número válido.\")\n"
      ],
      "metadata": {
        "colab": {
          "base_uri": "https://localhost:8080/"
        },
        "id": "vBSNK_bmPZcH",
        "outputId": "be72248e-11ff-46e0-ac5f-4bd46f0ca40e"
      },
      "execution_count": 17,
      "outputs": [
        {
          "output_type": "stream",
          "name": "stdout",
          "text": [
            "Ingresa el número de filas para el diamante: 2\n",
            " *\n",
            "***\n",
            " *\n"
          ]
        }
      ]
    },
    {
      "cell_type": "code",
      "source": [
        "#Escribe un programa que encuentre todos los números Armstrong hasta n.\n",
        "\n",
        "def es_numero_armstrong(num):\n",
        "\n",
        "    digitos = str(num)\n",
        "    n_digitos = len(digitos)\n",
        "\n",
        "\n",
        "    suma = sum(int(digit) ** n_digitos for digit in digitos)\n",
        "\n",
        "\n",
        "    return suma == num\n",
        "\n",
        "def encontrar_numeros_armstrong(hasta_n):\n",
        "    armstrongs = []\n",
        "    for num in range(hasta_n + 1):\n",
        "        if es_numero_armstrong(num):\n",
        "            armstrongs.append(num)\n",
        "    return armstrongs\n",
        "\n",
        "try:\n",
        "    n = int(input(\"Ingresa un número para encontrar todos los números Armstrong hasta n: \"))\n",
        "\n",
        "    if n < 0:\n",
        "        print(\"Por favor, ingresa un número entero positivo.\")\n",
        "    else:\n",
        "        armstrongs = encontrar_numeros_armstrong(n)\n",
        "        print(f\"Los números Armstrong hasta {n} son: {armstrongs}\")\n",
        "\n",
        "except ValueError:\n",
        "    print(\"Por favor, ingresa un número válido.\")\n"
      ],
      "metadata": {
        "colab": {
          "base_uri": "https://localhost:8080/"
        },
        "id": "kP4XQBUBPmaP",
        "outputId": "0b60e09c-d918-4b5c-d3eb-510428cd7cb1"
      },
      "execution_count": 18,
      "outputs": [
        {
          "output_type": "stream",
          "name": "stdout",
          "text": [
            "Ingresa un número para encontrar todos los números Armstrong hasta n: 5\n",
            "Los números Armstrong hasta 5 son: [0, 1, 2, 3, 4, 5]\n"
          ]
        }
      ]
    },
    {
      "cell_type": "code",
      "source": [
        "#Escribe un programa que encuentre todos los números Armstrong hasta n.\n",
        "\n",
        "def encontrar_numeros_armstrong(hasta_n):\n",
        "\n",
        "    return list(filter(lambda num: sum(int(digit) ** len(str(num)) for digit in str(num)) == num, range(hasta_n + 1)))\n",
        "\n",
        "\n",
        "try:\n",
        "    n = int(input(\"Ingresa un número para encontrar todos los números Armstrong hasta n: \"))\n",
        "\n",
        "    if n < 0:\n",
        "        print(\"Por favor, ingresa un número entero positivo.\")\n",
        "    else:\n",
        "        armstrongs = encontrar_numeros_armstrong(n)\n",
        "        print(f\"Los números Armstrong hasta {n} son: {armstrongs}\")\n",
        "\n",
        "except ValueError:\n",
        "    print(\"Por favor, ingresa un número válido.\")\n"
      ],
      "metadata": {
        "colab": {
          "base_uri": "https://localhost:8080/"
        },
        "id": "pIPn-NP2Pwpv",
        "outputId": "7c9d55b7-0e68-4502-e6f2-55c1cb41be68"
      },
      "execution_count": 19,
      "outputs": [
        {
          "output_type": "stream",
          "name": "stdout",
          "text": [
            "Ingresa un número para encontrar todos los números Armstrong hasta n: 5\n",
            "Los números Armstrong hasta 5 son: [0, 1, 2, 3, 4, 5]\n"
          ]
        }
      ]
    },
    {
      "cell_type": "code",
      "source": [
        "#Desarrolla un programa que simule un reloj digital mostrando horas, minutos y segundos durante un período específico.\n",
        "\n",
        "import time\n",
        "\n",
        "def reloj_digital(duracion_segundos):\n",
        "    start_time = time.time()\n",
        "    while True:\n",
        "\n",
        "        elapsed_time = time.time() - start_time\n",
        "        horas = int(elapsed_time // 3600)\n",
        "        minutos = int((elapsed_time % 3600) // 60)\n",
        "        segundos = int(elapsed_time % 60)\n",
        "\n",
        "        print(f\"{horas:02}:{minutos:02}:{segundos:02}\", end=\"\\r\")\n",
        "\n",
        "        if elapsed_time >= duracion_segundos:\n",
        "            break\n",
        "\n",
        "        time.sleep(1)\n",
        "\n",
        "    print(\"\\nEl tiempo ha terminado.\")\n",
        "\n",
        "\n",
        "try:\n",
        "    duracion = int(input(\"Ingresa la duración en segundos para el reloj digital: \"))\n",
        "\n",
        "    if duracion <= 0:\n",
        "        print(\"Por favor, ingresa un número positivo mayor que 0.\")\n",
        "    else:\n",
        "        reloj_digital(duracion)\n",
        "\n",
        "except ValueError:\n",
        "    print(\"Por favor, ingresa un número válido.\")\n"
      ],
      "metadata": {
        "colab": {
          "base_uri": "https://localhost:8080/"
        },
        "id": "EzvP4bwXQAKG",
        "outputId": "5d3fd2c8-591c-493f-88c5-9de0e4553d2f"
      },
      "execution_count": 20,
      "outputs": [
        {
          "output_type": "stream",
          "name": "stdout",
          "text": [
            "Ingresa la duración en segundos para el reloj digital: 4\n",
            "00:00:04\n",
            "El tiempo ha terminado.\n"
          ]
        }
      ]
    },
    {
      "cell_type": "code",
      "source": [
        "import time\n",
        "\n",
        "def reloj_digital(duracion_segundos):\n",
        "    start_time = time.time()\n",
        "\n",
        "    calcular_horas = lambda elapsed: int(elapsed // 3600)\n",
        "    calcular_minutos = lambda elapsed: int((elapsed % 3600) // 60)\n",
        "    calcular_segundos = lambda elapsed: int(elapsed % 60)\n",
        "\n",
        "    while True:\n",
        "\n",
        "        elapsed_time = time.time() - start_time\n",
        "        horas = calcular_horas(elapsed_time)\n",
        "        minutos = calcular_minutos(elapsed_time)\n",
        "        segundos = calcular_segundos(elapsed_time)\n",
        "\n",
        "        print(f\"{horas:02}:{minutos:02}:{segundos:02}\", end=\"\\r\")\n",
        "\n",
        "\n",
        "        if elapsed_time >= duracion_segundos:\n",
        "            break\n",
        "\n",
        "\n",
        "        time.sleep(1)\n",
        "\n",
        "    print(\"\\nEl tiempo ha terminado.\")\n",
        "\n",
        "\n",
        "try:\n",
        "    duracion = int(input(\"Ingresa la duración en segundos para el reloj digital: \"))\n",
        "\n",
        "    if duracion <= 0:\n",
        "        print(\"Por favor, ingresa un número positivo mayor que 0.\")\n",
        "    else:\n",
        "        reloj_digital(duracion)\n",
        "\n",
        "except ValueError:\n",
        "    print(\"Por favor, ingresa un número válido.\")\n"
      ],
      "metadata": {
        "colab": {
          "base_uri": "https://localhost:8080/"
        },
        "id": "P5HcD4RlQKbP",
        "outputId": "36cad2ba-f0bf-4118-a2a5-8bb19342084f"
      },
      "execution_count": 24,
      "outputs": [
        {
          "output_type": "stream",
          "name": "stdout",
          "text": [
            "Ingresa la duración en segundos para el reloj digital: 4\n",
            "00:00:04\n",
            "El tiempo ha terminado.\n"
          ]
        }
      ]
    }
  ]
}