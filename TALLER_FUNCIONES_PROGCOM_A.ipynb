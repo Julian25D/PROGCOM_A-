{
  "cells": [
    {
      "cell_type": "code",
      "execution_count": null,
      "metadata": {
        "id": "TVpy2RrwJngu"
      },
      "outputs": [],
      "source": [
        "#Cree un programa que resuelva una ecuación cuadrática (ax² + bx + c = 0) pidiendo los valores de a, b y c\n",
        "def ecuacion():\n",
        "  a=float(input(\"Ingrese el valor de a: \"))\n",
        "  b=float(input(\"Ingrese el valor de b: \"))\n",
        "  c=float(input(\"Ingrese el valor de c: \"))\n",
        "  print(f\"La ecuación es: {a}x²+{b}x+{c}=0 \")\n",
        "  return a,b,c\n",
        "\n",
        "def resultado(a,b,c):\n",
        "  print(f\"El resultado a la ecuación es: {(-b+(b**2-4*a*c)**1/2)/(2*a)} y {(-b-(b**2-4*a*c)**1/2)/(2*a)}\")"
      ]
    },
    {
      "cell_type": "code",
      "execution_count": null,
      "metadata": {
        "colab": {
          "base_uri": "https://localhost:8080/"
        },
        "id": "_zsTXtiNNZcc",
        "outputId": "80f8599c-c292-4083-f09d-802f62e87dae"
      },
      "outputs": [
        {
          "name": "stdout",
          "output_type": "stream",
          "text": [
            "Ingrese el valor de a: 1\n",
            "Ingrese el valor de b: 2\n",
            "Ingrese el valor de c: 3\n",
            "La ecuación es: 1.0x²+2.0x+3.0=0 \n",
            "El resultado a la ecuación es: -3.0 y 1.0\n"
          ]
        }
      ],
      "source": [
        "m,n,o=ecuacion()\n",
        "resultado(m,n,o)"
      ]
    },
    {
      "cell_type": "code",
      "execution_count": null,
      "metadata": {
        "id": "GmN9Gza5N0VL"
      },
      "outputs": [],
      "source": [
        "#Desarrolle un programa que determine si un número es par o impar\n",
        "def par_impar():\n",
        " num=int(input(\"Ingrese un número: \"))\n",
        " if num%2==0:\n",
        "    print(f\"{num} es un número par \")\n",
        " else:\n",
        "    print(f\"{num} es un número impar \")"
      ]
    },
    {
      "cell_type": "code",
      "execution_count": null,
      "metadata": {
        "colab": {
          "base_uri": "https://localhost:8080/"
        },
        "id": "uq2-ZaPrOjYq",
        "outputId": "4bbf6498-846c-4443-9cf3-3d1489887096"
      },
      "outputs": [
        {
          "name": "stdout",
          "output_type": "stream",
          "text": [
            "Ingrese un número: 5\n",
            "5 es un número impar \n"
          ]
        }
      ],
      "source": [
        "par_impar()"
      ]
    },
    {
      "cell_type": "code",
      "execution_count": null,
      "metadata": {
        "id": "aVD7tSJEOA-c"
      },
      "outputs": [],
      "source": [
        "#Creé un programa que determine si un año es bisiesto\n",
        "def bisiesto():\n",
        " año=int(input(\"Ingrese el año: \"))\n",
        " return (año)\n",
        "def resultado(año):\n",
        "  print(f\"{año} es un año bisiesto\") if año%4==0 and año%100!=0 else print(f\"{año} no es un año bisiesto \")"
      ]
    },
    {
      "cell_type": "code",
      "execution_count": null,
      "metadata": {
        "colab": {
          "base_uri": "https://localhost:8080/"
        },
        "id": "mwDFzexjOnYj",
        "outputId": "322bbf6c-28dc-4449-ab21-9f1c5f99bfd3"
      },
      "outputs": [
        {
          "name": "stdout",
          "output_type": "stream",
          "text": [
            "Ingrese el año: 1874\n",
            "1874 no es un año bisiesto \n"
          ]
        }
      ],
      "source": [
        "resultado(bisiesto())"
      ]
    },
    {
      "cell_type": "code",
      "execution_count": null,
      "metadata": {
        "id": "tSNFZ6QrPPbM"
      },
      "outputs": [],
      "source": [
        "#Escribe un programa que solicite el nombre del usuario y determine si una persona pertenece a la tercera edad (70 años o más) y si se cumple la condición, imprima que se le da prioridad en la fila\n",
        "def prioridad():\n",
        " nam=input(\"Ingrese su nombre: \")\n",
        " e=int(input(\"Ingrese su edad: \"))\n",
        "\n",
        " if e>=70:\n",
        "  print(f\"{nam}, se encuentra en el rango de preferencia en fila, continúe \")\n",
        " else:\n",
        "  print(f\"{nam}, no se encuntra en el rango de preferencia en la fila. Continue en espera \")"
      ]
    },
    {
      "cell_type": "code",
      "execution_count": null,
      "metadata": {
        "colab": {
          "base_uri": "https://localhost:8080/"
        },
        "id": "63SEJZGVP0WJ",
        "outputId": "593547dc-9a85-4494-eb18-990b9fbb2db8"
      },
      "outputs": [
        {
          "name": "stdout",
          "output_type": "stream",
          "text": [
            "Ingrese su nombre: HUGO\n",
            "Ingrese su edad: 24\n",
            "HUGO, no se encuntra en el rango de preferencia en la fila. Continue en espera \n"
          ]
        }
      ],
      "source": [
        "prioridad()"
      ]
    },
    {
      "cell_type": "code",
      "execution_count": null,
      "metadata": {
        "id": "9b1wtsJfQtSB"
      },
      "outputs": [],
      "source": [
        "#Desarrolla un programa que compare tres números y muestre el mayor.\n",
        "def mayor():\n",
        " num1=float(input(\"Ingrese el primer número:\"))\n",
        " num2=float(input(\"Ingrese el segundo número:\"))\n",
        " num3=float(input(\"Ingrese el tercer número: \"))\n",
        " print(f\"El número mayor es: {num1}\") if num1>num2 and num2>num3 else print(f\"el número mayor es: {num2}\") if num2>num1 and num2>num3 else print(f\"el número mayor es: {num3}\")"
      ]
    },
    {
      "cell_type": "code",
      "execution_count": null,
      "metadata": {
        "colab": {
          "base_uri": "https://localhost:8080/"
        },
        "id": "K4IFMTXFQ2MJ",
        "outputId": "725e9862-0f83-43bc-c13d-57a3ce748f20"
      },
      "outputs": [
        {
          "name": "stdout",
          "output_type": "stream",
          "text": [
            "Ingrese el primer número:1\n",
            "Ingrese el segundo número:1\n",
            "Ingrese el tercer número: 1\n",
            "el número mayor es: 1.0\n"
          ]
        }
      ],
      "source": [
        "mayor()"
      ]
    },
    {
      "cell_type": "code",
      "execution_count": null,
      "metadata": {
        "id": "2qZcSvbkSA6f"
      },
      "outputs": [],
      "source": [
        "#Cree un programa que determine si un triángulo es equilátero, isósceles o escaleno según sus lados\n",
        "def triangulo():\n",
        " la1=float(input(\"Ingrese el primer lado del triángulo: \"))\n",
        " la2=float(input(\"Ingrese el segundo lado del triángulo: \"))\n",
        " la3=float(input(\"Ingrese el tercer lado del triángulo: \"))\n",
        " if la1==la2 and la2==la3:\n",
        "  print(\"el triángulo es equilátero \")\n",
        " else:\n",
        "  if la1==la2 or la2==la3 or la1==la3:\n",
        "    print(\"El triángulo es isósceles \")\n",
        "  else:\n",
        "    print(\"El triángulo es escaleno  3\")"
      ]
    },
    {
      "cell_type": "code",
      "execution_count": null,
      "metadata": {
        "colab": {
          "base_uri": "https://localhost:8080/"
        },
        "id": "WyqOoqusSH7X",
        "outputId": "4396c0f2-5053-4e7c-cc70-5f9570f91962"
      },
      "outputs": [
        {
          "name": "stdout",
          "output_type": "stream",
          "text": [
            "Ingrese el primer lado del triángulo: 1\n",
            "Ingrese el segundo lado del triángulo: 2\n",
            "Ingrese el tercer lado del triángulo: 2\n",
            "El triángulo es isósceles \n"
          ]
        }
      ],
      "source": [
        "triangulo()"
      ]
    },
    {
      "cell_type": "code",
      "execution_count": null,
      "metadata": {
        "id": "nayH6NuPShfH"
      },
      "outputs": [],
      "source": [
        "#Programa para calcular el IMC y determinar la categoría\n",
        "def calcular_imc():\n",
        " while True:\n",
        "    try:\n",
        "        # Solicitar el nombre del usuario\n",
        "        nombre = input(\"Ingresa tu nombre: \")\n",
        "\n",
        "        # Solicitar peso (en kg) y altura (en metros)\n",
        "        peso = float(input(\"Ingresa tu peso en kilogramos: \"))\n",
        "        altura = float(input(\"Ingresa tu altura en metros: \"))\n",
        "\n",
        "        # Validar que el peso y la altura sean positivos\n",
        "        if peso <= 0 or altura <= 0:\n",
        "            print(\"El peso y la altura deben ser mayores que cero. Intenta nuevamente.\")\n",
        "            continue\n",
        "\n",
        "        # Calcular el IMC\n",
        "        imc = peso / (altura ** 2)\n",
        "\n",
        "        # Determinar la categoría\n",
        "        if imc < 18.5:\n",
        "            categoria = \"Bajo peso\"\n",
        "            descripcion = \"Debes considerar aumentar tu ingesta calórica y consultar a un nutricionista.\"\n",
        "        elif 18.5 <= imc < 24.9:\n",
        "            categoria = \"Normal\"\n",
        "            descripcion = \"Tu peso es saludable. Continúa con una dieta balanceada y ejercicio regular.\"\n",
        "        elif 25 <= imc < 29.9:\n",
        "            categoria = \"Sobrepeso\"\n",
        "            descripcion = \"Debes cuidar tu dieta y hacer más ejercicio para prevenir problemas de salud.\"\n",
        "        else:\n",
        "            categoria = \"Obesidad\"\n",
        "            descripcion = \"Es importante que busques orientación médica y sigas un plan de alimentación y ejercicio.\"\n",
        "\n",
        "        # Imprimir el resultado\n",
        "        print(f\"\\nNombre: {nombre}\")\n",
        "        print(f\"IMC: {imc:.2f}\")\n",
        "        print(f\"Categoría: {categoria}\")\n",
        "        print(f\"Descripción: {descripcion}\")\n",
        "\n",
        "        break  # Salir del ciclo si todo es correcto\n",
        "\n",
        "    except ValueError:\n",
        "        print(\"Por favor, ingresa un número válido. Intenta nuevamente.\")\n"
      ]
    },
    {
      "cell_type": "code",
      "execution_count": null,
      "metadata": {
        "colab": {
          "base_uri": "https://localhost:8080/"
        },
        "id": "M_55sxBbSnWX",
        "outputId": "fab94e91-33f1-4104-bb9f-899ebb050551"
      },
      "outputs": [
        {
          "name": "stdout",
          "output_type": "stream",
          "text": [
            "Ingresa tu nombre: hugo\n",
            "Ingresa tu peso en kilogramos: 75\n",
            "Ingresa tu altura en metros: 181\n",
            "\n",
            "Nombre: hugo\n",
            "IMC: 0.00\n",
            "Categoría: Bajo peso\n",
            "Descripción: Debes considerar aumentar tu ingesta calórica y consultar a un nutricionista.\n"
          ]
        }
      ],
      "source": [
        "calcular_imc()"
      ]
    },
    {
      "cell_type": "code",
      "execution_count": null,
      "metadata": {
        "id": "Q5TsFa9bSzYX"
      },
      "outputs": [],
      "source": [
        "#Programa para una calculadora simple\n",
        "def calculadora():\n",
        "  while True:\n",
        "    print(\"\\nOperaciones disponibles:\")\n",
        "    print(\"1. Sumar (+)\")\n",
        "    print(\"2. Restar (-)\")\n",
        "    print(\"3. Multiplicar (*)\")\n",
        "    print(\"4. Dividir (/)\")\n",
        "    print(\"5. Salir\")\n",
        "\n",
        "    # Solicitar la operación que desea realizar el usuario\n",
        "    operacion = input(\"\\nElige una operación (1/2/3/4/5): \")\n",
        "\n",
        "    # Verificar si el usuario quiere salir\n",
        "    if operacion == '5':\n",
        "        print(\"¡Gracias por usar la calculadora! Adiós.\")\n",
        "        break\n",
        "\n",
        "    # Comprobar que la opción ingresada es válida\n",
        "    if operacion not in ['1', '2', '3', '4']:\n",
        "        print(\"Opción no válida. Por favor, ingresa una opción del 1 al 4.\")\n",
        "        continue\n",
        "\n",
        "    # Solicitar los dos números\n",
        "    try:\n",
        "        num1 = float(input(\"Ingresa el primer número: \"))\n",
        "        num2 = float(input(\"Ingresa el segundo número: \"))\n",
        "    except ValueError:\n",
        "        print(\"Por favor, ingresa números válidos.\")\n",
        "        continue\n",
        "\n",
        "    # Realizar la operación según la elección del usuario\n",
        "    if operacion == '1':  # Sumar\n",
        "        resultado = num1 + num2\n",
        "        print(f\"\\nEl resultado de {num1} + {num2} es {resultado}\")\n",
        "    elif operacion == '2':  # Restar\n",
        "        resultado = num1 - num2\n",
        "        print(f\"\\nEl resultado de {num1} - {num2} es {resultado}\")\n",
        "    elif operacion == '3':  # Multiplicar\n",
        "        resultado = num1 * num2\n",
        "        print(f\"\\nEl resultado de {num1} * {num2} es {resultado}\")\n",
        "    elif operacion == '4':  # Dividir\n",
        "        if num2 == 0:\n",
        "            print(\"Error: No se puede dividir entre cero.\")\n",
        "        else:\n",
        "            resultado = num1 / num2\n",
        "            print(f\"\\nEl resultado de {num1} / {num2} es {resultado}\")\n",
        "\n",
        "    # Preguntar si el usuario desea realizar otra operación\n",
        "    otra_operacion = input(\"\\n¿Deseas realizar otra operación? (sí/no): \").lower()\n",
        "    if otra_operacion != \"sí\":\n",
        "        print(\"¡Gracias por usar la calculadora! Adiós.\")\n",
        "        break\n"
      ]
    },
    {
      "cell_type": "code",
      "execution_count": null,
      "metadata": {
        "colab": {
          "base_uri": "https://localhost:8080/"
        },
        "id": "LAlz6Y96S2Kn",
        "outputId": "ba7c76bc-fd7f-4519-b49a-d01c76d1bbb5"
      },
      "outputs": [
        {
          "name": "stdout",
          "output_type": "stream",
          "text": [
            "\n",
            "Operaciones disponibles:\n",
            "1. Sumar (+)\n",
            "2. Restar (-)\n",
            "3. Multiplicar (*)\n",
            "4. Dividir (/)\n",
            "5. Salir\n",
            "\n",
            "Elige una operación (1/2/3/4/5): 1\n",
            "Ingresa el primer número: 2\n",
            "Ingresa el segundo número: 3\n",
            "\n",
            "El resultado de 2.0 + 3.0 es 5.0\n",
            "\n",
            "¿Deseas realizar otra operación? (sí/no): no\n",
            "¡Gracias por usar la calculadora! Adiós.\n"
          ]
        }
      ],
      "source": [
        "calculadora()"
      ]
    },
    {
      "cell_type": "code",
      "execution_count": null,
      "metadata": {
        "id": "tqEarHT7TJam"
      },
      "outputs": [],
      "source": [
        "#Programa para determinar la calificación en letras según una nota numérica\n",
        "def determinar_calificacion(nota):\n",
        "  while True:\n",
        "    try:\n",
        "        # Solicitar la nota numérica\n",
        "        nota = float(input(\"Ingresa la nota (0-100): \"))\n",
        "\n",
        "        # Verificar que la nota esté dentro del rango válido\n",
        "        if nota < 0 or nota > 100:\n",
        "            print(\"La nota debe estar entre 0 y 100. Intenta nuevamente.\")\n",
        "            continue\n",
        "\n",
        "        # Determinar la calificación en letras\n",
        "        if nota >= 90:\n",
        "            calificacion = \"A\"\n",
        "        elif nota >= 80:\n",
        "            calificacion = \"B\"\n",
        "        elif nota >= 70:\n",
        "            calificacion = \"C\"\n",
        "        elif nota >= 60:\n",
        "            calificacion = \"D\"\n",
        "        else:\n",
        "            calificacion = \"F\"\n",
        "\n",
        "        # Imprimir el resultado\n",
        "        print(f\"La calificación es: {calificacion}\")\n",
        "\n",
        "        # Preguntar si el usuario desea ingresar otra nota\n",
        "        otra_nota = input(\"\\n¿Deseas ingresar otra nota? (sí/no): \").lower()\n",
        "        if otra_nota != \"sí\":\n",
        "            print(\"¡Gracias por usar el programa! Adiós.\")\n",
        "            break  # Salir del ciclo si el usuario no quiere continuar\n",
        "\n",
        "    except ValueError:\n",
        "        print(\"Por favor, ingresa una nota numérica válida. Intenta nuevamente.\")"
      ]
    },
    {
      "cell_type": "code",
      "execution_count": null,
      "metadata": {
        "colab": {
          "base_uri": "https://localhost:8080/"
        },
        "id": "--Pqvs4RTM6e",
        "outputId": "bcf52dd8-3dd0-4afc-d60d-7ed01454628e"
      },
      "outputs": [
        {
          "name": "stdout",
          "output_type": "stream",
          "text": [
            "Ingresa la nota (0-100): 95\n",
            "La calificación es: A\n",
            "\n",
            "¿Deseas ingresar otra nota? (sí/no): no\n",
            "¡Gracias por usar el programa! Adiós.\n"
          ]
        }
      ],
      "source": [
        "determinar_calificacion(0)"
      ]
    },
    {
      "cell_type": "code",
      "execution_count": null,
      "metadata": {
        "id": "seq8MODoTXGm"
      },
      "outputs": [],
      "source": [
        "#Programa para determinar el día de la semana según un número (1-7)\n",
        "def determinar_dia_semana(numero):\n",
        "  while True:\n",
        "    try:\n",
        "        # Solicitar el número del día\n",
        "        numero = int(input(\"Ingresa un número del 1 al 7 para conocer el día de la semana: \"))\n",
        "\n",
        "        # Verificar que el número esté en el rango correcto\n",
        "        if numero < 1 or numero > 7:\n",
        "            print(\"Número inválido. Debes ingresar un número entre 1 y 7. Intenta nuevamente.\")\n",
        "            continue\n",
        "\n",
        "        # Determinar el día de la semana\n",
        "        if numero == 1:\n",
        "            dia = \"Lunes\"\n",
        "        elif numero == 2:\n",
        "            dia = \"Martes\"\n",
        "        elif numero == 3:\n",
        "            dia = \"Miércoles\"\n",
        "        elif numero == 4:\n",
        "            dia = \"Jueves\"\n",
        "        elif numero == 5:\n",
        "            dia = \"Viernes\"\n",
        "        elif numero == 6:\n",
        "            dia = \"Sábado\"\n",
        "        else:\n",
        "            dia = \"Domingo\"\n",
        "\n",
        "        # Imprimir el día de la semana\n",
        "        print(f\"El día de la semana es: {dia}\")\n",
        "\n",
        "        # Preguntar si el usuario desea ingresar otro número\n",
        "        otra_introduccion = input(\"\\n¿Deseas ingresar otro número? (sí/no): \").lower()\n",
        "        if otra_introduccion != \"sí\":\n",
        "            print(\"¡Gracias por usar el programa! Adiós.\")\n",
        "            break  # Salir del ciclo si el usuario no quiere continuar\n",
        "\n",
        "    except ValueError:\n",
        "        print(\"Por favor, ingresa un número válido. Intenta nuevamente.\")"
      ]
    },
    {
      "cell_type": "code",
      "execution_count": null,
      "metadata": {
        "colab": {
          "base_uri": "https://localhost:8080/"
        },
        "id": "C3aXYEhpTiVO",
        "outputId": "d6bab33c-cdcf-427b-cef2-6f211e99eb07"
      },
      "outputs": [
        {
          "name": "stdout",
          "output_type": "stream",
          "text": [
            "Ingresa un número del 1 al 7 para conocer el día de la semana: 5\n",
            "El día de la semana es: Viernes\n",
            "\n",
            "¿Deseas ingresar otro número? (sí/no): no\n",
            "¡Gracias por usar el programa! Adiós.\n"
          ]
        }
      ],
      "source": [
        "determinar_dia_semana(0)"
      ]
    },
    {
      "cell_type": "code",
      "execution_count": null,
      "metadata": {
        "id": "Z2mYIbf_Tmxe"
      },
      "outputs": [],
      "source": [
        "#Programa para validar si tres números pueden formar un triángulo y determinar su tipo\n",
        "def determinar_triangulo(a, b, c):\n",
        "   while True:\n",
        "    try:\n",
        "        # Solicitar los tres lados del triángulo\n",
        "        a = float(input(\"Ingresa el primer lado del triángulo: \"))\n",
        "        b = float(input(\"Ingresa el segundo lado del triángulo: \"))\n",
        "        c = float(input(\"Ingresa el tercer lado del triángulo: \"))\n",
        "\n",
        "        # Verificar que los lados sean positivos\n",
        "        if a <= 0 or b <= 0 or c <= 0:\n",
        "            print(\"Los lados deben ser números positivos. Intenta nuevamente.\")\n",
        "            continue\n",
        "\n",
        "        # Verificar si los tres lados cumplen con la condición para formar un triángulo\n",
        "        if a + b > c and a + c > b and b + c > a:\n",
        "            lados = [a, b, c]\n",
        "            for lado in lados:\n",
        "                if lados.count(lado) == 3:\n",
        "                    tipo = \"Equilátero\"\n",
        "                    break\n",
        "                elif lados.count(lado) == 2:\n",
        "                    tipo = \"Isósceles\"\n",
        "                    break\n",
        "                else:\n",
        "                    tipo = \"Escaleno\"\n",
        "            print(f\"¡Sí! Los números pueden formar un triángulo {tipo}.\")\n",
        "        else:\n",
        "            print(\"No se puede formar un triángulo con estos números.\")\n",
        "\n",
        "        # Preguntar si el usuario quiere intentar con otros lados\n",
        "        otra_introduccion = input(\"\\n¿Quieres intentar con otros lados? (sí/no): \").lower()\n",
        "        if otra_introduccion != \"sí\":\n",
        "            print(\"¡Gracias por usar el programa! Adiós.\")\n",
        "            break\n",
        "\n",
        "    except ValueError:\n",
        "        print(\"Por favor, ingresa valores válidos. Intenta nuevamente.\")"
      ]
    },
    {
      "cell_type": "code",
      "execution_count": null,
      "metadata": {
        "colab": {
          "background_save": true,
          "base_uri": "https://localhost:8080/"
        },
        "id": "o1jGM-wRT1df",
        "outputId": "e1e6a388-60f3-4fe1-d7ed-4d56686940a9"
      },
      "outputs": [
        {
          "name": "stdout",
          "output_type": "stream",
          "text": [
            "Por favor, ingresa valores válidos. Intenta nuevamente.\n",
            "¡Sí! Los números pueden formar un triángulo Equilátero.\n"
          ]
        }
      ],
      "source": [
        "determinar_triangulo('a','b','c')"
      ]
    },
    {
      "cell_type": "code",
      "source": [
        "#Programa para mostrar la tabla de multiplicar de un número hasta el 10\n",
        "def mostrar_tabla_multiplicar():\n",
        "  while True:\n",
        "    try:\n",
        "        num = int(input(\"Ingresa un número para mostrar su tabla de multiplicar: \"))\n",
        "\n",
        "        # Mostrar la tabla de multiplicar del número\n",
        "        print(f\"\\nTabla de multiplicar de {num}:\")\n",
        "        for i in range(1, 11):\n",
        "            print(f\"{num} x {i} = {num * i}\")\n",
        "\n",
        "        # Preguntar si el usuario desea realizar otra operación\n",
        "        otra_tabla = input(\"\\n¿Quieres ver otra tabla de multiplicar? (sí/no): \").lower()\n",
        "        if otra_tabla != \"sí\":\n",
        "            print(\"¡Gracias por usar el programa! Adiós.\")\n",
        "            break\n",
        "\n",
        "    except ValueError:\n",
        "        print(\"Por favor, ingresa un número válido. Intenta nuevamente.\")"
      ],
      "metadata": {
        "id": "OQuQDoUCt_6k"
      },
      "execution_count": 1,
      "outputs": []
    },
    {
      "cell_type": "code",
      "source": [
        "mostrar_tabla_multiplicar ()"
      ],
      "metadata": {
        "colab": {
          "base_uri": "https://localhost:8080/"
        },
        "id": "pLtv65LLxFvW",
        "outputId": "eb857ce3-9ea7-4905-d262-4f1b316f47cf"
      },
      "execution_count": 2,
      "outputs": [
        {
          "output_type": "stream",
          "name": "stdout",
          "text": [
            "Ingresa un número para mostrar su tabla de multiplicar: 5\n",
            "\n",
            "Tabla de multiplicar de 5:\n",
            "5 x 1 = 5\n",
            "5 x 2 = 10\n",
            "5 x 3 = 15\n",
            "5 x 4 = 20\n",
            "5 x 5 = 25\n",
            "5 x 6 = 30\n",
            "5 x 7 = 35\n",
            "5 x 8 = 40\n",
            "5 x 9 = 45\n",
            "5 x 10 = 50\n",
            "\n",
            "¿Quieres ver otra tabla de multiplicar? (sí/no): NO\n",
            "¡Gracias por usar el programa! Adiós.\n"
          ]
        }
      ]
    },
    {
      "cell_type": "code",
      "source": [
        "#Programa para calcular la suma de números naturales hasta n\n",
        "def suma_naturales():\n",
        "  while True:\n",
        "    try:\n",
        "        n = int(input(\"Ingresa un número entero positivo (n): \"))\n",
        "\n",
        "        # Validar que n sea positivo\n",
        "        if n < 1:\n",
        "            print(\"El número debe ser mayor o igual a 1. Intenta nuevamente.\")\n",
        "            continue\n",
        "\n",
        "        # Calcular la suma de los primeros n números naturales\n",
        "        suma = 0\n",
        "        for i in range(1, n + 1):\n",
        "            suma += i\n",
        "\n",
        "        print(f\"\\nLa suma de los números naturales hasta {n} es: {suma}\")\n",
        "\n",
        "        # Preguntar si el usuario desea realizar otro cálculo\n",
        "        otra_suma = input(\"\\n¿Quieres calcular la suma hasta otro número? (sí/no): \").lower()\n",
        "        if otra_suma != \"sí\":\n",
        "            print(\"¡Gracias por usar el programa! Adiós.\")\n",
        "            break\n",
        "\n",
        "    except ValueError:\n",
        "        print(\"Por favor, ingresa un número válido. Intenta nuevamente.\")"
      ],
      "metadata": {
        "id": "VPwHULn1x7k9"
      },
      "execution_count": 3,
      "outputs": []
    },
    {
      "cell_type": "code",
      "source": [
        "suma_naturales ()"
      ],
      "metadata": {
        "colab": {
          "base_uri": "https://localhost:8080/"
        },
        "id": "ZLCdCPtmyqPV",
        "outputId": "3e60a664-f7d4-4964-f664-006c8a33525f"
      },
      "execution_count": 4,
      "outputs": [
        {
          "output_type": "stream",
          "name": "stdout",
          "text": [
            "Ingresa un número entero positivo (n): 4\n",
            "\n",
            "La suma de los números naturales hasta 4 es: 10\n",
            "\n",
            "¿Quieres calcular la suma hasta otro número? (sí/no): no\n",
            "¡Gracias por usar el programa! Adiós.\n"
          ]
        }
      ]
    },
    {
      "cell_type": "code",
      "source": [
        "#Programa para calcular el factorial de un número\n",
        "def factorial():\n",
        "  while True:\n",
        "    try:\n",
        "        num = int(input(\"Ingresa un número para calcular su factorial: \"))\n",
        "\n",
        "        # Validar que el número no sea negativo\n",
        "        if num < 0:\n",
        "            print(\"El factorial no está definido para números negativos. Intenta nuevamente.\")\n",
        "            continue\n",
        "\n",
        "        # Calcular el factorial utilizando un ciclo for\n",
        "        factorial = 1\n",
        "        for i in range(1, num + 1):\n",
        "            factorial *= i\n",
        "\n",
        "        print(f\"\\nEl factorial de {num} es: {factorial}\")\n",
        "\n",
        "        # Preguntar si el usuario desea calcular otro factorial\n",
        "        otro_factorial = input(\"\\n¿Quieres calcular el factorial de otro número? (sí/no): \").lower()\n",
        "        if otro_factorial != \"sí\":\n",
        "            print(\"¡Gracias por usar el programa! Adiós.\")\n",
        "            break\n",
        "\n",
        "    except ValueError:\n",
        "        print(\"Por favor, ingresa un número válido. Intenta nuevamente.\")\n"
      ],
      "metadata": {
        "id": "XEcIMgIxy1S2"
      },
      "execution_count": 5,
      "outputs": []
    },
    {
      "cell_type": "code",
      "source": [
        "factorial ()"
      ],
      "metadata": {
        "colab": {
          "base_uri": "https://localhost:8080/"
        },
        "id": "faUETmhRzGVk",
        "outputId": "0ca0021e-3f41-434e-8d29-5ec70144d5f1"
      },
      "execution_count": 6,
      "outputs": [
        {
          "output_type": "stream",
          "name": "stdout",
          "text": [
            "Ingresa un número para calcular su factorial: 6\n",
            "\n",
            "El factorial de 6 es: 720\n",
            "\n",
            "¿Quieres calcular el factorial de otro número? (sí/no): no\n",
            "¡Gracias por usar el programa! Adiós.\n"
          ]
        }
      ]
    },
    {
      "cell_type": "code",
      "source": [
        "#Programa para mostrar los primeros n números de la serie Fibonacci\n",
        "def fibonacci():\n",
        "  while True:\n",
        "    try:\n",
        "        n = int(input(\"Ingresa un número entero positivo (n) para mostrar los primeros n números de Fibonacci: \"))\n",
        "\n",
        "        # Validar que n sea positivo\n",
        "        if n < 1:\n",
        "            print(\"El número debe ser mayor o igual a 1. Intenta nuevamente.\")\n",
        "            continue\n",
        "\n",
        "        # Calcular y mostrar los primeros n números de la serie Fibonacci\n",
        "        fibonacci = [0, 1]\n",
        "        for i in range(2, n):\n",
        "            fibonacci.append(fibonacci[i - 1] + fibonacci[i - 2])\n",
        "\n",
        "        print(f\"\\nLos primeros {n} números de la serie Fibonacci son: {fibonacci[:n]}\")\n",
        "\n",
        "        # Preguntar si el usuario desea realizar otra consulta\n",
        "        otra_fibonacci = input(\"\\n¿Quieres ver otra serie de Fibonacci? (sí/no): \").lower()\n",
        "        if otra_fibonacci != \"sí\":\n",
        "            print(\"¡Gracias por usar el programa! Adiós.\")\n",
        "            break\n",
        "\n",
        "    except ValueError:\n",
        "        print(\"Por favor, ingresa un número válido. Intenta nuevamente.\")"
      ],
      "metadata": {
        "id": "deLzKaerzVhB"
      },
      "execution_count": 7,
      "outputs": []
    },
    {
      "cell_type": "code",
      "source": [
        "fibonacci ()"
      ],
      "metadata": {
        "colab": {
          "base_uri": "https://localhost:8080/"
        },
        "id": "IPvsjLGQzs8d",
        "outputId": "912d2cf3-f8e6-445b-b41c-4039a53843a4"
      },
      "execution_count": 8,
      "outputs": [
        {
          "output_type": "stream",
          "name": "stdout",
          "text": [
            "Ingresa un número entero positivo (n) para mostrar los primeros n números de Fibonacci: 2\n",
            "\n",
            "Los primeros 2 números de la serie Fibonacci son: [0, 1]\n",
            "\n",
            "¿Quieres ver otra serie de Fibonacci? (sí/no): no\n",
            "¡Gracias por usar el programa! Adiós.\n"
          ]
        }
      ]
    }
  ],
  "metadata": {
    "colab": {
      "provenance": []
    },
    "kernelspec": {
      "display_name": "Python 3",
      "name": "python3"
    },
    "language_info": {
      "name": "python"
    }
  },
  "nbformat": 4,
  "nbformat_minor": 0
}