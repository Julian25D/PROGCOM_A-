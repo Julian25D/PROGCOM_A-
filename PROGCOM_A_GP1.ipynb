{
  "nbformat": 4,
  "nbformat_minor": 0,
  "metadata": {
    "colab": {
      "provenance": []
    },
    "kernelspec": {
      "name": "python3",
      "display_name": "Python 3"
    },
    "language_info": {
      "name": "python"
    }
  },
  "cells": [
    {
      "cell_type": "code",
      "execution_count": 4,
      "metadata": {
        "colab": {
          "base_uri": "https://localhost:8080/"
        },
        "id": "QeaU6dPCarw2",
        "outputId": "f25e6066-4eca-44e7-e760-aed9a275553b"
      },
      "outputs": [
        {
          "output_type": "stream",
          "name": "stdout",
          "text": [
            "Bienvenido a Piedra, Papel, Tijera, Lagarto, Spock!\n",
            "Opciones: piedra, papel, tijera, lagarto, spock\n",
            "Elige tu jugada: papel\n",
            "\n",
            "La computadora eligió: lagarto\n",
            "\n",
            "Perdiste 😢 lagarto devora papel\n"
          ]
        }
      ],
      "source": [
        "import random\n",
        "from termcolor import colored\n",
        "\n",
        "# Opciones del juego\n",
        "opciones = [\"piedra\", \"papel\", \"tijera\", \"lagarto\", \"spock\"]\n",
        "\n",
        "# Reglas del juego basadas en la imagen\n",
        "reglas = {\n",
        "    \"tijera\": [\"papel\", \"lagarto\"],     # Tijera corta papel y decapita lagarto\n",
        "    \"papel\": [\"piedra\", \"spock\"],       # Papel envuelve piedra y desautoriza Spock\n",
        "    \"piedra\": [\"lagarto\", \"tijera\"],    # Piedra aplasta lagarto y rompe tijera\n",
        "    \"lagarto\": [\"spock\", \"papel\"],      # Lagarto envenena Spock y devora papel\n",
        "    \"spock\": [\"tijera\", \"piedra\"]       # Spock rompe tijera y vaporiza piedra\n",
        "}\n",
        "\n",
        "def jugar():\n",
        "    print(\"Bienvenido a Piedra, Papel, Tijera, Lagarto, Spock!\")\n",
        "    print(\"Opciones: piedra, papel, tijera, lagarto, spock\")\n",
        "\n",
        "    jugador = input(\"Elige tu jugada: \").lower()\n",
        "\n",
        "    if jugador not in opciones:\n",
        "        print(\"Opción no válida. Intenta de nuevo.\")\n",
        "        return\n",
        "\n",
        "    computadora = random.choice(opciones)\n",
        "    print(f\"\\nLa computadora eligió: {computadora}\")\n",
        "\n",
        "    if jugador == computadora:\n",
        "        print(colored(\"\\n¡Es un empate! 😐\", \"yellow\"))\n",
        "    elif computadora in reglas[jugador]:\n",
        "        print(colored(f\"\\n¡Ganaste! 😀 {jugador} {resultado_texto(jugador, computadora)} {computadora}\", \"green\"))\n",
        "    else:\n",
        "        print(colored(f\"\\nPerdiste 😢 {computadora} {resultado_texto(computadora, jugador)} {jugador}\", \"red\"))\n",
        "\n",
        "def resultado_texto(ganador, perdedor):\n",
        "    \"\"\"Devuelve el texto correspondiente a la acción de victoria basada en la imagen.\"\"\"\n",
        "    acciones = {\n",
        "        (\"tijera\", \"papel\"): \"corta\",\n",
        "        (\"tijera\", \"lagarto\"): \"decapita\",\n",
        "        (\"papel\", \"piedra\"): \"envuelve\",\n",
        "        (\"papel\", \"spock\"): \"desautoriza\",\n",
        "        (\"piedra\", \"lagarto\"): \"aplasta\",\n",
        "        (\"piedra\", \"tijera\"): \"rompe\",\n",
        "        (\"lagarto\", \"spock\"): \"envenena\",\n",
        "        (\"lagarto\", \"papel\"): \"devora\",\n",
        "        (\"spock\", \"tijera\"): \"rompe\",\n",
        "        (\"spock\", \"piedra\"): \"vaporiza\"\n",
        "    }\n",
        "    return acciones.get((ganador, perdedor), \"vence a\")\n",
        "\n",
        "# Ejecutar el juego\n",
        "jugar()\n"
      ]
    }
  ]
}