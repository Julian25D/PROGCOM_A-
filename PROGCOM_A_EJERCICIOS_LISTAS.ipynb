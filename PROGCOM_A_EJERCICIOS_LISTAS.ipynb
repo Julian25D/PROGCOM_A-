{
  "nbformat": 4,
  "nbformat_minor": 0,
  "metadata": {
    "colab": {
      "provenance": []
    },
    "kernelspec": {
      "name": "python3",
      "display_name": "Python 3"
    },
    "language_info": {
      "name": "python"
    }
  },
  "cells": [
    {
      "cell_type": "code",
      "source": [
        "#Programa para validar si tres números pueden formar un triángulo y determinar su tipo\n",
        "def determinar_triangulo(lados):\n",
        "    # Verificar si los tres lados cumplen con la condición para formar un triángulo\n",
        "    if lados[0] + lados[1] > lados[2] and lados[0] + lados[2] > lados[1] and lados[1] + lados[2] > lados[0]:\n",
        "        # Determinar el tipo de triángulo\n",
        "        if lados[0] == lados[1] == lados[2]:\n",
        "            tipo = \"Equilátero\"\n",
        "        elif lados[0] == lados[1] or lados[1] == lados[2] or lados[0] == lados[2]:\n",
        "            tipo = \"Isósceles\"\n",
        "        else:\n",
        "            tipo = \"Escaleno\"\n",
        "        return f\"¡Sí! Los números pueden formar un triángulo {tipo}.\"\n",
        "    else:\n",
        "        return \"No se puede formar un triángulo con estos números.\"\n",
        "\n",
        "def main():\n",
        "    while True:\n",
        "        try:\n",
        "            lados = []\n",
        "            for i in range(1, 4):\n",
        "                lado = float(input(f\"Ingresa el lado {i} del triángulo: \"))\n",
        "                lados.append(lado)\n",
        "\n",
        "            if any(lado <= 0 for lado in lados):\n",
        "                print(\"Los lados deben ser números positivos. Intenta nuevamente.\")\n",
        "                continue\n",
        "\n",
        "            resultado = determinar_triangulo(lados)\n",
        "            print(resultado)\n",
        "\n",
        "            otra_introduccion = input(\"\\n¿Quieres intentar con otros lados? (sí/no): \").lower()\n",
        "            if otra_introduccion != \"sí\":\n",
        "                print(\"¡Gracias por usar el programa! Adiós.\")\n",
        "                break\n",
        "\n",
        "        except ValueError:\n",
        "            print(\"Por favor, ingresa valores válidos. Intenta nuevamente.\")\n",
        "\n",
        "if __name__ == \"__main__\":\n",
        "    main()\n"
      ],
      "metadata": {
        "colab": {
          "base_uri": "https://localhost:8080/"
        },
        "id": "gmiZtPlnpStG",
        "outputId": "a8ca619f-3185-45e8-e6dd-ac5d8771aa75"
      },
      "execution_count": 9,
      "outputs": [
        {
          "output_type": "stream",
          "name": "stdout",
          "text": [
            "Ingresa el lado 1 del triángulo: 2\n",
            "Ingresa el lado 2 del triángulo: 3\n",
            "Ingresa el lado 3 del triángulo: 2\n",
            "¡Sí! Los números pueden formar un triángulo Isósceles.\n",
            "\n",
            "¿Quieres intentar con otros lados? (sí/no): no\n",
            "¡Gracias por usar el programa! Adiós.\n"
          ]
        }
      ]
    },
    {
      "cell_type": "code",
      "source": [
        "#Crea un programa que muestre la tabla de multiplicar de un número hasta el 10.\n",
        "def mostrar_tabla_multiplicar():\n",
        "    while True:\n",
        "        try:\n",
        "            num = int(input(\"Ingresa un número para mostrar su tabla de multiplicar: \"))\n",
        "            tabla = [f\"{num} x {i} = {num * i}\" for i in range(1, 11)]\n",
        "\n",
        "            print(f\"\\nTabla de multiplicar de {num}:\")\n",
        "            for linea in tabla:\n",
        "                print(linea)\n",
        "\n",
        "            otra_tabla = input(\"\\n¿Quieres ver otra tabla de multiplicar? (sí/no): \").lower()\n",
        "            if otra_tabla != \"sí\":\n",
        "                print(\"¡Gracias por usar el programa!\")\n",
        "                break\n",
        "\n",
        "        except ValueError:\n",
        "            print(\"Por favor, ingresa un número válido. Intenta nuevamente.\")\n",
        "\n",
        "mostrar_tabla_multiplicar()\n"
      ],
      "metadata": {
        "colab": {
          "base_uri": "https://localhost:8080/"
        },
        "id": "a1PTCNBkq7Bx",
        "outputId": "c82c7c90-a927-4e70-9e7b-2237a6dbae94"
      },
      "execution_count": 13,
      "outputs": [
        {
          "output_type": "stream",
          "name": "stdout",
          "text": [
            "Ingresa un número para mostrar su tabla de multiplicar: 5\n",
            "\n",
            "Tabla de multiplicar de 5:\n",
            "5 x 1 = 5\n",
            "5 x 2 = 10\n",
            "5 x 3 = 15\n",
            "5 x 4 = 20\n",
            "5 x 5 = 25\n",
            "5 x 6 = 30\n",
            "5 x 7 = 35\n",
            "5 x 8 = 40\n",
            "5 x 9 = 45\n",
            "5 x 10 = 50\n",
            "\n",
            "¿Quieres ver otra tabla de multiplicar? (sí/no): no\n",
            "¡Gracias por usar el programa!.\n"
          ]
        }
      ]
    },
    {
      "cell_type": "code",
      "source": [
        "#Escribe un programa que calcule la suma de números naturales hasta n.\n",
        "def suma_naturales():\n",
        "    while True:\n",
        "        try:\n",
        "            n = int(input(\"Ingresa un número entero positivo (n): \"))\n",
        "            if n < 1:\n",
        "                print(\"El número debe ser mayor o igual a 1. Intenta nuevamente.\")\n",
        "                continue\n",
        "\n",
        "            numeros = [i for i in range(1, n + 1)]\n",
        "            suma = sum(numeros)\n",
        "\n",
        "            print(f\"\\nLa suma de los números naturales hasta {n} es: {suma}\")\n",
        "\n",
        "            otra_suma = input(\"\\n¿Quieres calcular la suma hasta otro número? (sí/no): \").lower()\n",
        "            if otra_suma != \"sí\":\n",
        "                print(\"¡Gracias por usar el programa! Adiós.\")\n",
        "                break\n",
        "\n",
        "        except ValueError:\n",
        "            print(\"Por favor, ingresa un número válido. Intenta nuevamente.\")\n",
        "\n",
        "suma_naturales()\n"
      ],
      "metadata": {
        "colab": {
          "base_uri": "https://localhost:8080/"
        },
        "id": "Q7j_lFfQr5cN",
        "outputId": "5bbc5d70-96bd-4005-add9-e260274edafd"
      },
      "execution_count": 15,
      "outputs": [
        {
          "output_type": "stream",
          "name": "stdout",
          "text": [
            "Ingresa un número entero positivo (n): 6\n",
            "\n",
            "La suma de los números naturales hasta 6 es: 21\n",
            "\n",
            "¿Quieres calcular la suma hasta otro número? (sí/no): no\n",
            "¡Gracias por usar el programa! Adiós.\n"
          ]
        }
      ]
    },
    {
      "cell_type": "code",
      "source": [
        "#Desarrolla un programa que calcule el factorial de un número. Recuerda que el factorial de 0 es 1 y no existen factoriales negativos.\n",
        "def factorial():\n",
        "    while True:\n",
        "        try:\n",
        "            num = int(input(\"Ingresa un número para calcular su factorial: \"))\n",
        "\n",
        "            if num < 0:\n",
        "                print(\"El factorial no está definido para números negativos. Intenta nuevamente.\")\n",
        "                continue\n",
        "\n",
        "            lista_numeros = [i for i in range(1, num + 1)]\n",
        "\n",
        "            factorial = 1\n",
        "            for i in lista_numeros:\n",
        "                factorial *= i\n",
        "\n",
        "            print(f\"\\nEl factorial de {num} es: {factorial}\")\n",
        "\n",
        "            otro_factorial = input(\"\\n¿Quieres calcular el factorial de otro número? (sí/no): \").lower()\n",
        "            if otro_factorial != \"sí\":\n",
        "                print(\"¡Gracias por usar el programa! Adiós.\")\n",
        "                break\n",
        "\n",
        "        except ValueError:\n",
        "            print(\"Por favor, ingresa un número válido. Intenta nuevamente.\")\n",
        "\n",
        "factorial()\n"
      ],
      "metadata": {
        "colab": {
          "base_uri": "https://localhost:8080/"
        },
        "id": "otc3kyuYsY7P",
        "outputId": "d8998165-6d9a-4d74-a4d8-58f43c4a42be"
      },
      "execution_count": 16,
      "outputs": [
        {
          "output_type": "stream",
          "name": "stdout",
          "text": [
            "Ingresa un número para calcular su factorial: 4\n",
            "\n",
            "El factorial de 4 es: 24\n",
            "\n",
            "¿Quieres calcular el factorial de otro número? (sí/no): no\n",
            "¡Gracias por usar el programa! Adiós.\n"
          ]
        }
      ]
    },
    {
      "cell_type": "code",
      "source": [
        "#Crea un programa que muestre los primeros n números de la serie Fibonacci.\n",
        "def fibonacci():\n",
        "    while True:\n",
        "        try:\n",
        "            n = int(input(\"Ingresa un número entero positivo (n) para mostrar los primeros n números de Fibonacci: \"))\n",
        "\n",
        "            if n < 1:\n",
        "                print(\"El número debe ser mayor o igual a 1. Intenta nuevamente.\")\n",
        "                continue\n",
        "\n",
        "            fibonacci = [0, 1] + [sum([fibonacci[i-1], fibonacci[i-2]]) for i in range(2, n)]\n",
        "\n",
        "            print(f\"\\nLos primeros {n} números de la serie Fibonacci son: {fibonacci[:n]}\")\n",
        "\n",
        "            otra_fibonacci = input(\"\\n¿Quieres ver otra serie de Fibonacci? (sí/no): \").lower()\n",
        "            if otra_fibonacci != \"sí\":\n",
        "                print(\"¡Gracias por usar el programa! Adiós.\")\n",
        "                break\n",
        "\n",
        "        except ValueError:\n",
        "            print(\"Por favor, ingresa un número válido. Intenta nuevamente.\")\n",
        "\n",
        "fibonacci()\n"
      ],
      "metadata": {
        "colab": {
          "base_uri": "https://localhost:8080/"
        },
        "id": "iPnniz2wthDw",
        "outputId": "0fa69202-a2e7-4923-fef1-49ade6c4918e"
      },
      "execution_count": 18,
      "outputs": [
        {
          "output_type": "stream",
          "name": "stdout",
          "text": [
            "Ingresa un número entero positivo (n) para mostrar los primeros n números de Fibonacci: 2\n",
            "\n",
            "Los primeros 2 números de la serie Fibonacci son: [0, 1]\n",
            "\n",
            "¿Quieres ver otra serie de Fibonacci? (sí/no): no\n",
            "¡Gracias por usar el programa! Adiós.\n"
          ]
        }
      ]
    },
    {
      "cell_type": "code",
      "source": [
        "#Escribe un programa que adivine entre un conjunto de diez colores definidos por el usuario, con un máximo de 10 intentos.\n",
        "def adivinar_color():\n",
        "    while True:\n",
        "        try:\n",
        "            colores = [input(f\"Ingresa el color {i+1}: \").lower() for i in range(10)]\n",
        "            color_seleccionado = random.choice(colores)\n",
        "\n",
        "            intentos = 0\n",
        "            while intentos < 10:\n",
        "                intento = input(f\"Intento {intentos + 1}/10 - Adivina el color: \").lower()\n",
        "                intentos += 1\n",
        "\n",
        "                if intento == color_seleccionado:\n",
        "                    print(f\"¡Felicidades! Adivinaste el color en {intentos} intentos.\")\n",
        "                    break\n",
        "                else:\n",
        "                    print(\"No es el color correcto, intenta de nuevo.\")\n",
        "\n",
        "            if intentos == 10:\n",
        "                print(f\"Se acabaron los intentos. El color correcto era: {color_seleccionado}\")\n",
        "\n",
        "            jugar_nuevamente = input(\"\\n¿Quieres jugar de nuevo? (sí/no): \").lower()\n",
        "            if jugar_nuevamente != \"sí\":\n",
        "                print(\"¡Gracias por jugar! Adiós.\")\n",
        "                break\n",
        "\n",
        "        except ValueError:\n",
        "            print(\"Por favor, ingresa colores válidos. Intenta nuevamente.\")\n",
        "\n",
        "adivinar_color()\n"
      ],
      "metadata": {
        "colab": {
          "base_uri": "https://localhost:8080/"
        },
        "id": "Ul7gq21ywsMO",
        "outputId": "d990223d-5ba4-4242-f46c-bfabfb79e731"
      },
      "execution_count": 22,
      "outputs": [
        {
          "output_type": "stream",
          "name": "stdout",
          "text": [
            "Ingresa el color 1: negro\n",
            "Ingresa el color 2: azul\n",
            "Ingresa el color 3: amarillo\n",
            "Ingresa el color 4: marron\n",
            "Ingresa el color 5: blanco\n",
            "Ingresa el color 6: verde\n",
            "Ingresa el color 7: rojo\n",
            "Ingresa el color 8: rosado\n",
            "Ingresa el color 9: lila\n",
            "Ingresa el color 10: morado\n",
            "Intento 1/10 - Adivina el color: azul\n",
            "No es el color correcto, intenta de nuevo.\n",
            "Intento 2/10 - Adivina el color: lila\n",
            "No es el color correcto, intenta de nuevo.\n",
            "Intento 3/10 - Adivina el color: verde\n",
            "No es el color correcto, intenta de nuevo.\n",
            "Intento 4/10 - Adivina el color: amarillo\n",
            "¡Felicidades! Adivinaste el color en 4 intentos.\n",
            "\n",
            "¿Quieres jugar de nuevo? (sí/no): no\n",
            "¡Gracias por jugar! Adiós.\n"
          ]
        }
      ]
    },
    {
      "cell_type": "code",
      "source": [
        "#Desarrolla un programa que muestre los números pares del 1 al 100.\n",
        "def numeros_pares():\n",
        "    pares = [i for i in range(1, 101) if i % 2 == 0]\n",
        "\n",
        "    print(\"Los números pares entre 1 y 100 son:\")\n",
        "    print(pares)\n",
        "\n",
        "numeros_pares()\n"
      ],
      "metadata": {
        "colab": {
          "base_uri": "https://localhost:8080/"
        },
        "id": "1mW3XDf2xWV3",
        "outputId": "89e99791-133a-4d55-ce22-d45c5bf17c64"
      },
      "execution_count": 23,
      "outputs": [
        {
          "output_type": "stream",
          "name": "stdout",
          "text": [
            "Los números pares entre 1 y 100 son:\n",
            "[2, 4, 6, 8, 10, 12, 14, 16, 18, 20, 22, 24, 26, 28, 30, 32, 34, 36, 38, 40, 42, 44, 46, 48, 50, 52, 54, 56, 58, 60, 62, 64, 66, 68, 70, 72, 74, 76, 78, 80, 82, 84, 86, 88, 90, 92, 94, 96, 98, 100]\n"
          ]
        }
      ]
    },
    {
      "cell_type": "code",
      "source": [
        "#Crea un programa que calcule la suma de los dígitos de un número.\n",
        "def suma_digitos():\n",
        "    while True:\n",
        "        try:\n",
        "            numero = input(\"Ingresa un número entero para calcular la suma de sus dígitos: \")\n",
        "            digitos = [int(digit) for digit in numero if digit.isdigit()]\n",
        "            suma = sum(digitos)\n",
        "\n",
        "            print(f\"La suma de los dígitos de {numero} es: {suma}\")\n",
        "\n",
        "            otra_operacion = input(\"\\n¿Quieres calcular la suma de los dígitos de otro número? (sí/no): \").lower()\n",
        "            if otra_operacion != \"sí\":\n",
        "                print(\"¡Gracias por usar el programa! Adiós.\")\n",
        "                break\n",
        "\n",
        "        except ValueError:\n",
        "            print(\"Por favor, ingresa un número válido. Intenta nuevamente.\")\n",
        "\n",
        "suma_digitos()\n"
      ],
      "metadata": {
        "colab": {
          "base_uri": "https://localhost:8080/"
        },
        "id": "britDOBDyJFu",
        "outputId": "386b97e8-ed22-4d14-fdb2-14cd214d48d9"
      },
      "execution_count": 25,
      "outputs": [
        {
          "output_type": "stream",
          "name": "stdout",
          "text": [
            "Ingresa un número entero para calcular la suma de sus dígitos: 346\n",
            "La suma de los dígitos de 346 es: 13\n",
            "\n",
            "¿Quieres calcular la suma de los dígitos de otro número? (sí/no): no\n",
            "¡Gracias por usar el programa! Adiós.\n"
          ]
        }
      ]
    },
    {
      "cell_type": "code",
      "source": [
        "#Escribe un programa que determine si un número es primo.\n",
        "def es_primo():\n",
        "    while True:\n",
        "        try:\n",
        "            numero = int(input(\"Ingresa un número para verificar si es primo: \"))\n",
        "            if numero <= 1:\n",
        "                print(f\"{numero} no es un número primo.\")\n",
        "            else:\n",
        "                divisores = [i for i in range(2, numero) if numero % i == 0]\n",
        "\n",
        "                if not divisores:\n",
        "                    print(f\"{numero} es un número primo.\")\n",
        "                else:\n",
        "                    print(f\"{numero} no es un número primo.\")\n",
        "\n",
        "            otra_comprobacion = input(\"\\n¿Quieres verificar otro número? (sí/no): \").lower()\n",
        "            if otra_comprobacion != \"sí\":\n",
        "                print(\"¡Gracias por usar el programa! Adiós.\")\n",
        "                break\n",
        "\n",
        "        except ValueError:\n",
        "            print(\"Por favor, ingresa un número válido. Intenta nuevamente.\")\n",
        "\n",
        "es_primo()\n"
      ],
      "metadata": {
        "colab": {
          "base_uri": "https://localhost:8080/"
        },
        "id": "IPKVVyl5yuAs",
        "outputId": "2a5ed87e-ba67-4691-c098-8e6c89db55c9"
      },
      "execution_count": 26,
      "outputs": [
        {
          "output_type": "stream",
          "name": "stdout",
          "text": [
            "Ingresa un número para verificar si es primo: 8\n",
            "8 no es un número primo.\n",
            "\n",
            "¿Quieres verificar otro número? (sí/no): no\n",
            "¡Gracias por usar el programa! Adiós.\n"
          ]
        }
      ]
    },
    {
      "cell_type": "code",
      "source": [
        "#Desarrolla un programa que muestre el patrón de un triángulo con asteriscos.\n",
        "def patron_triangulo():\n",
        "    while True:\n",
        "        try:\n",
        "            filas = int(input(\"Ingresa el número de filas para el triángulo: \"))\n",
        "\n",
        "            for i in range(1, filas + 1):\n",
        "                fila = ['*' for _ in range(i)]\n",
        "                print(''.join(fila))\n",
        "\n",
        "            otra_introduccion = input(\"\\n¿Quieres generar otro patrón de triángulo? (sí/no): \").lower()\n",
        "            if otra_introduccion != \"sí\":\n",
        "                print(\"¡Gracias por usar el programa! Adiós.\")\n",
        "                break\n",
        "\n",
        "        except ValueError:\n",
        "            print(\"Por favor, ingresa un número válido. Intenta nuevamente.\")\n",
        "\n",
        "patron_triangulo()\n"
      ],
      "metadata": {
        "colab": {
          "base_uri": "https://localhost:8080/"
        },
        "id": "JICplVBvzODX",
        "outputId": "1dbc55c7-b558-4daf-b06b-d64c69c571d7"
      },
      "execution_count": 27,
      "outputs": [
        {
          "output_type": "stream",
          "name": "stdout",
          "text": [
            "Ingresa el número de filas para el triángulo: 3\n",
            "*\n",
            "**\n",
            "***\n",
            "\n",
            "¿Quieres generar otro patrón de triángulo? (sí/no): no\n",
            "¡Gracias por usar el programa! Adiós.\n"
          ]
        }
      ]
    },
    {
      "cell_type": "code",
      "source": [
        "#Crea un programa que calcule la potencia de un número sin usar el operador **.\n",
        "def calcular_potencia():\n",
        "    while True:\n",
        "        try:\n",
        "            base = int(input(\"Ingresa la base: \"))\n",
        "            exponente = int(input(\"Ingresa el exponente: \"))\n",
        "            resultado = 1\n",
        "            [resultado := resultado * base for _ in range(exponente)]\n",
        "\n",
        "            print(f\"{base} elevado a {exponente} es: {resultado}\")\n",
        "\n",
        "            otra_potencia = input(\"\\n¿Quieres calcular otra potencia? (sí/no): \").lower()\n",
        "            if otra_potencia != \"sí\":\n",
        "                print(\"¡Gracias por usar el programa! Adiós.\")\n",
        "                break\n",
        "\n",
        "        except ValueError:\n",
        "            print(\"Por favor, ingresa números válidos. Intenta nuevamente.\")\n",
        "\n",
        "calcular_potencia()\n"
      ],
      "metadata": {
        "colab": {
          "base_uri": "https://localhost:8080/"
        },
        "id": "3m_vVEuzzize",
        "outputId": "a88dcabc-c2d1-4180-8f64-8e618c46961a"
      },
      "execution_count": 29,
      "outputs": [
        {
          "output_type": "stream",
          "name": "stdout",
          "text": [
            "Ingresa la base: 3\n",
            "Ingresa el exponente: 4\n",
            "3 elevado a 4 es: 81\n",
            "\n",
            "¿Quieres calcular otra potencia? (sí/no): no\n",
            "¡Gracias por usar el programa! Adiós.\n"
          ]
        }
      ]
    }
  ]
}