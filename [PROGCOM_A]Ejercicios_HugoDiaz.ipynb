{
  "nbformat": 4,
  "nbformat_minor": 0,
  "metadata": {
    "colab": {
      "provenance": []
    },
    "kernelspec": {
      "name": "python3",
      "display_name": "Python 3"
    },
    "language_info": {
      "name": "python"
    }
  },
  "cells": [
    {
      "cell_type": "code",
      "source": [
        "#Desarrolle un programa que determine si un número es par o impar\n",
        "\n",
        "# Solicitar al usuario que ingrese un número\n",
        "num= int(input(\"Ingrese un número: \"))\n",
        "\n",
        "if num % 2 == 0:\n",
        "    print(f\"El número {num} es par.\")\n",
        "elif num % 2 != 0:\n",
        "    print(f\"El número {num} es impar.\")\n",
        "else:\n",
        "    print(\"Hubo un error al ingresar al número.\")"
      ],
      "metadata": {
        "id": "bPIptkWCH2vu"
      },
      "execution_count": null,
      "outputs": []
    },
    {
      "cell_type": "code",
      "source": [
        "#Desarrolle un programa que determine si un número es par o impar\n",
        "\n",
        "# Solicitar al usuario que ingrese un número\n",
        "num= int(input(\"Ingrese un número: \"))\n",
        "\n",
        "match num % 2:\n",
        "    case 0:\n",
        "        print(f\"El número {num} es par.\")\n",
        "    case 1:\n",
        "        print(f\"El número {num} es impar.\")"
      ],
      "metadata": {
        "id": "Hv8AWLdHKCU8",
        "colab": {
          "base_uri": "https://localhost:8080/"
        },
        "outputId": "432b2290-2243-463b-c573-bb6fd7bcd261"
      },
      "execution_count": null,
      "outputs": [
        {
          "output_type": "stream",
          "name": "stdout",
          "text": [
            "Ingrese un número: 3\n",
            "El número 3 es impar.\n"
          ]
        }
      ]
    },
    {
      "cell_type": "code",
      "source": [
        "#Crea un programa que determine si un año es bisiesto (divisible por 4 y no por 100, o divisible por 400).\n",
        "año = int(input(\"Ingrese un año: \"))\n",
        "\n",
        "if (año % 4 == 0 and año % 100 != 0) or (año % 400 == 0):\n",
        "    print(f\"El año {año} es bisiesto.\")\n",
        "else:\n",
        "    print(f\"El año {año} no es bisiesto.\")"
      ],
      "metadata": {
        "colab": {
          "base_uri": "https://localhost:8080/"
        },
        "id": "UgFGx9u2VVhb",
        "outputId": "6c04ca70-0471-434b-c300-32f85d9a189e"
      },
      "execution_count": null,
      "outputs": [
        {
          "output_type": "stream",
          "name": "stdout",
          "text": [
            "Ingrese un año: 1678\n",
            "El año 1678 no es bisiesto.\n"
          ]
        }
      ]
    },
    {
      "cell_type": "code",
      "source": [
        "#Crea un programa que determine si un año es bisiesto (divisible por 4 y no por 100, o divisible por 400).\n",
        "año = int(input(\"Ingrese un año: \"))\n",
        "\n",
        "match (año % 4 == 0, año % 100 != 0, año % 400 == 0):\n",
        "    case (True, True, _):\n",
        "        print(f\"El año {año} es bisiesto.\")\n",
        "    case (_, _, True):\n",
        "        print(f\"El año {año} es bisiesto.\")\n",
        "    case _:\n",
        "        print(f\"El año {año} no es bisiesto.\")"
      ],
      "metadata": {
        "colab": {
          "base_uri": "https://localhost:8080/"
        },
        "id": "ecTmpvJOXUgL",
        "outputId": "b38390ff-9515-46ac-e2ab-064ebc426bd5"
      },
      "execution_count": null,
      "outputs": [
        {
          "output_type": "stream",
          "name": "stdout",
          "text": [
            "Ingrese un año: 1680\n",
            "El año 1680 es bisiesto.\n"
          ]
        }
      ]
    },
    {
      "cell_type": "code",
      "source": [
        "# Escribe un programa que solicite el nombre del usuario y determine si una persona pertenece a la tercera edad (70 años o más) y si se cumple la condición, imprima que se le da prioridad en la fila.\n",
        "nombre = input(\"Ingrese su nombre: \")\n",
        "\n",
        "edad = int(input(\"Ingrese su edad: \"))\n",
        "\n",
        "if edad >= 70:\n",
        "    print(f\"{nombre}, usted tiene prioridad en la fila debido a su edad.\")\n",
        "elif edad < 70:\n",
        "    print(f\"{nombre}, usted no tiene prioridad en la fila.\")"
      ],
      "metadata": {
        "colab": {
          "base_uri": "https://localhost:8080/"
        },
        "id": "XT8VGxB4YDYV",
        "outputId": "1bcdb7e9-141c-4afb-d600-9a603a1eb23e"
      },
      "execution_count": null,
      "outputs": [
        {
          "output_type": "stream",
          "name": "stdout",
          "text": [
            "Ingrese su nombre: hugo\n",
            "Ingrese su edad: 34\n",
            "hugo, usted no tiene prioridad en la fila.\n"
          ]
        }
      ]
    },
    {
      "cell_type": "code",
      "source": [
        "#Escribe un programa que solicite el nombre del usuario y determine si una persona pertenece a la tercera edad (70 años o más) y si se cumple la condición, imprima que se le da prioridad en la fila.\n",
        "nombre = input(\"Ingrese su nombre: \")\n",
        "\n",
        "edad = int(input(\"Ingrese su edad: \"))\n",
        "\n",
        "match True:\n",
        "    case _ if edad >= 70:\n",
        "        print(f\"{nombre}, usted tiene prioridad en la fila debido a su edad.\")\n",
        "    case _:\n",
        "        print(f\"{nombre}, usted no tiene prioridad en la fila.\")"
      ],
      "metadata": {
        "colab": {
          "base_uri": "https://localhost:8080/"
        },
        "id": "_akGN3acYY7G",
        "outputId": "2774c263-b109-4bd0-882b-95299273b802"
      },
      "execution_count": 7,
      "outputs": [
        {
          "output_type": "stream",
          "name": "stdout",
          "text": [
            "Ingrese su nombre: g\n",
            "Ingrese su edad: 2\n",
            "g, usted no tiene prioridad en la fila.\n"
          ]
        }
      ]
    },
    {
      "cell_type": "code",
      "source": [
        "# Desarrolla un programa que compare tres números y muestre el mayor.\n",
        "num1 = int(input(\"Ingrese el primer número: \"))\n",
        "num2 = int(input(\"Ingrese el segundo número: \"))\n",
        "num3 = int(input(\"Ingrese el tercer número: \"))\n",
        "\n",
        "if num1 >= num2 and num1 >= num3:\n",
        "    print(f\"El mayor número es {num1}.\")\n",
        "elif num2 >= num1 and num2 >= num3:\n",
        "    print(f\"El mayor número es {num2}.\")\n",
        "else:\n",
        "    print(f\"El mayor número es {num3}.\")"
      ],
      "metadata": {
        "colab": {
          "base_uri": "https://localhost:8080/"
        },
        "id": "OidrKn12Ye0C",
        "outputId": "534c83ea-f540-42c2-beba-552c05090b9e"
      },
      "execution_count": null,
      "outputs": [
        {
          "output_type": "stream",
          "name": "stdout",
          "text": [
            "Ingrese el primer número: 5\n",
            "Ingrese el segundo número: 4\n",
            "Ingrese el tercer número: 3\n",
            "El mayor número es 5.\n"
          ]
        }
      ]
    },
    {
      "cell_type": "code",
      "source": [
        "# Desarrolla un programa que compare tres números y muestre el mayor.\n",
        "num1 = int(input(\"Ingrese el primer número: \"))\n",
        "num2 = int(input(\"Ingrese el segundo número: \"))\n",
        "num3 = int(input(\"Ingrese el tercer número: \"))\n",
        "\n",
        "match True:\n",
        "    case _ if num1 >= num2 and num1 >= num3:\n",
        "        print(f\"El mayor número es {num1}.\")\n",
        "    case _ if num2 >= num1 and num2 >= num3:\n",
        "        print(f\"El mayor número es {num2}.\")\n",
        "    case _:\n",
        "        print(f\"El mayor número es {num3}.\")"
      ],
      "metadata": {
        "colab": {
          "base_uri": "https://localhost:8080/"
        },
        "id": "Ky463_wXYqsl",
        "outputId": "9076c00b-908c-4e26-c563-859385e51b62"
      },
      "execution_count": null,
      "outputs": [
        {
          "output_type": "stream",
          "name": "stdout",
          "text": [
            "Ingrese el primer número: 3\n",
            "Ingrese el segundo número: 9\n",
            "Ingrese el tercer número: 10\n",
            "El mayor número es 10.\n"
          ]
        }
      ]
    },
    {
      "cell_type": "code",
      "source": [
        "# Crea un programa que determine si un triángulo es equilátero, isósceles o escaleno según sus lados.\n",
        "lado1 = float(input(\"Ingrese la longitud del primer lado: \"))\n",
        "lado2 = float(input(\"Ingrese la longitud del segundo lado: \"))\n",
        "lado3 = float(input(\"Ingrese la longitud del tercer lado: \"))\n",
        "\n",
        "if lado1 == lado2 == lado3:\n",
        "    print(\"El triángulo es equilátero.\")\n",
        "elif lado1 == lado2 or lado2 == lado3 or lado1 == lado3:\n",
        "    print(\"El triángulo es isósceles.\")\n",
        "else:\n",
        "    print(\"El triángulo es escaleno.\")\n"
      ],
      "metadata": {
        "colab": {
          "base_uri": "https://localhost:8080/"
        },
        "id": "ZCROR4iEc6Ib",
        "outputId": "4cf3ce55-575c-41ed-c709-575e60b377a8"
      },
      "execution_count": null,
      "outputs": [
        {
          "output_type": "stream",
          "name": "stdout",
          "text": [
            "Ingrese la longitud del primer lado: 3\n",
            "Ingrese la longitud del segundo lado: 67\n",
            "Ingrese la longitud del tercer lado: 23\n",
            "El triángulo es escaleno.\n"
          ]
        }
      ]
    },
    {
      "cell_type": "code",
      "source": [
        "# Crea un programa que determine si un triángulo es equilátero, isósceles o escaleno según sus lados.\n",
        "lado1 = float(input(\"Ingrese la longitud del primer lado: \"))\n",
        "lado2 = float(input(\"Ingrese la longitud del segundo lado: \"))\n",
        "lado3 = float(input(\"Ingrese la longitud del tercer lado: \"))\n",
        "\n",
        "# Usamos match para clasificar el triángulo según las condiciones\n",
        "match (lado1 <= 0 or lado2 <= 0 or lado3 <= 0, lado1 + lado2 <= lado3 or lado1 + lado3 <= lado2 or lado2 + lado3 <= lado1):\n",
        "    case (True, _):\n",
        "        print(\"Las longitudes de los lados deben ser mayores que cero.\")\n",
        "    case (_, True):\n",
        "        print(\"Los lados ingresados no forman un triángulo válido.\")\n",
        "    case (False, False):\n",
        "        match (lado1, lado2, lado3):\n",
        "            case (a, b, c) if a == b == c:\n",
        "                print(\"El triángulo es equilátero.\")\n",
        "            case (a, b, c) if a == b or b == c or a == c:\n",
        "                print(\"El triángulo es isósceles.\")\n",
        "            case (a, b, c):\n",
        "                print(\"El triángulo es escaleno.\")\n",
        "\n"
      ],
      "metadata": {
        "id": "UILDi3L4dJKf",
        "colab": {
          "base_uri": "https://localhost:8080/"
        },
        "outputId": "eb0a0bdd-9f94-4313-dc99-8a389ba9298b"
      },
      "execution_count": 14,
      "outputs": [
        {
          "output_type": "stream",
          "name": "stdout",
          "text": [
            "Ingrese la longitud del primer lado: 2\n",
            "Ingrese la longitud del segundo lado: 2\n",
            "Ingrese la longitud del tercer lado: 2\n",
            "El triángulo es equilátero.\n"
          ]
        }
      ]
    }
  ]
}