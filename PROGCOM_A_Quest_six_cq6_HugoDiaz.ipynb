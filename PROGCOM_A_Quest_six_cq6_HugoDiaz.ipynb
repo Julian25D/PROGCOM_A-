{
  "nbformat": 4,
  "nbformat_minor": 0,
  "metadata": {
    "colab": {
      "provenance": []
    },
    "kernelspec": {
      "name": "python3",
      "display_name": "Python 3"
    },
    "language_info": {
      "name": "python"
    }
  },
  "cells": [
    {
      "cell_type": "markdown",
      "source": [
        "DEFINICIÓN Y EJEMPLOS DE PALABRAS EN PYTHON\n",
        "\n",
        "\n",
        "1.**False**: Es un valor booleano que representa la falsedad o una condición que no se cumple."
      ],
      "metadata": {
        "id": "Jz4AL2Xh1R1P"
      }
    },
    {
      "cell_type": "code",
      "source": [
        "x = False\n",
        "if not x:\n",
        "    print(\"x es falso\")\n"
      ],
      "metadata": {
        "colab": {
          "base_uri": "https://localhost:8080/"
        },
        "id": "mMQoX0rn1lUG",
        "outputId": "0077e67f-5eb6-4e8a-85a6-980c60ebb5ac"
      },
      "execution_count": null,
      "outputs": [
        {
          "output_type": "stream",
          "name": "stdout",
          "text": [
            "x es falso\n"
          ]
        }
      ]
    },
    {
      "cell_type": "markdown",
      "source": [
        "2.**None**: Representa la ausencia de un valor o la nada. Es el valor devuelto por funciones que no retornan explícitamente nada. También se usa para inicializar variables que no tienen un valor aún."
      ],
      "metadata": {
        "id": "7IlvgeHE3zs7"
      }
    },
    {
      "cell_type": "code",
      "source": [
        "resultado = None\n",
        "if resultado is None:\n",
        "    print(\"Resultado no tiene valor asignado.\")\n"
      ],
      "metadata": {
        "colab": {
          "base_uri": "https://localhost:8080/"
        },
        "id": "znE01nwm4IKU",
        "outputId": "55e480e2-4d11-4240-e8d8-0d9c1476a6a1"
      },
      "execution_count": null,
      "outputs": [
        {
          "output_type": "stream",
          "name": "stdout",
          "text": [
            "Resultado no tiene valor asignado.\n"
          ]
        }
      ]
    },
    {
      "cell_type": "markdown",
      "source": [
        "3.**True**: Es un valor booleano que representa la verdad o una condición que se cumple."
      ],
      "metadata": {
        "id": "vZCc8fPi4LYK"
      }
    },
    {
      "cell_type": "code",
      "source": [
        "x = True\n",
        "if x:\n",
        "    print(\"x es verdadero\")\n"
      ],
      "metadata": {
        "colab": {
          "base_uri": "https://localhost:8080/"
        },
        "id": "vEF7Fa2d4W1e",
        "outputId": "328d1cd4-ea50-4678-8673-cbe42bc96bd9"
      },
      "execution_count": null,
      "outputs": [
        {
          "output_type": "stream",
          "name": "stdout",
          "text": [
            "x es verdadero\n"
          ]
        }
      ]
    },
    {
      "cell_type": "markdown",
      "source": [
        "4.**and**: Es un operador lógico que devuelve True si ambas condiciones son verdaderas. Si una de las condiciones es falsa, devuelve False."
      ],
      "metadata": {
        "id": "7ESK7_Qk4YGz"
      }
    },
    {
      "cell_type": "code",
      "source": [
        "a = True\n",
        "b = False\n",
        "if a and b:\n",
        "    print(\"Ambas son verdaderas\")\n",
        "else:\n",
        "    print(\"Una o ambas son falsas\")\n"
      ],
      "metadata": {
        "colab": {
          "base_uri": "https://localhost:8080/"
        },
        "id": "HIKQN7Jb4hWy",
        "outputId": "4fbc7585-b8b4-42c6-aad3-7b1396be8359"
      },
      "execution_count": null,
      "outputs": [
        {
          "output_type": "stream",
          "name": "stdout",
          "text": [
            "Una o ambas son falsas\n"
          ]
        }
      ]
    },
    {
      "cell_type": "markdown",
      "source": [
        "5.**as**: Se usa para asignar un alias a un módulo o variable, o para capturar un objeto de excepción en un bloque try-except."
      ],
      "metadata": {
        "id": "rKkhOru04l5Z"
      }
    },
    {
      "cell_type": "code",
      "source": [
        "import math as m\n",
        "print(m.sqrt(16))  # Usando 'm' como alias de 'math'\n",
        "\n",
        "try:\n",
        "    1 / 0\n",
        "except ZeroDivisionError as e:\n",
        "    print(f\"Error: {e}\")\n"
      ],
      "metadata": {
        "colab": {
          "base_uri": "https://localhost:8080/"
        },
        "id": "JcMbmsKF4s5m",
        "outputId": "bd268e8e-feb4-45fe-a5bc-44a6638f4310"
      },
      "execution_count": null,
      "outputs": [
        {
          "output_type": "stream",
          "name": "stdout",
          "text": [
            "4.0\n",
            "Error: division by zero\n"
          ]
        }
      ]
    },
    {
      "cell_type": "markdown",
      "source": [
        "6.**assert**: Se usa para verificar que una condición sea verdadera. Si la condición es falsa, lanza una excepción AssertionError. Es útil para depuración y validación de condiciones internas de un programa."
      ],
      "metadata": {
        "id": "8_4hllcA4u9u"
      }
    },
    {
      "cell_type": "code",
      "source": [
        "def dividir(a, b):\n",
        "    try:\n",
        "        # Usamos assert para asegurarnos de que no estamos dividiendo entre cero\n",
        "        assert b != 0, \"No se puede dividir entre cero\"\n",
        "        return a / b\n",
        "    except AssertionError as e:\n",
        "        print(f\"Error: {e}\")\n",
        "        return None\n",
        "\n",
        "# Caso donde la condición es válida\n",
        "print(dividir(10, 2))  # Resultado: 5.0\n",
        "\n",
        "# Caso donde la condición falla (división por cero)\n",
        "# Esto imprimirá el mensaje de error sin detener el programa\n",
        "print(dividir(10, 0))\n",
        "\n"
      ],
      "metadata": {
        "colab": {
          "base_uri": "https://localhost:8080/"
        },
        "id": "7U-DpOYQ_OLi",
        "outputId": "a1af4684-52c7-422d-c00a-bb1d15b116e6"
      },
      "execution_count": null,
      "outputs": [
        {
          "output_type": "stream",
          "name": "stdout",
          "text": [
            "5.0\n",
            "Error: No se puede dividir entre cero\n",
            "None\n"
          ]
        }
      ]
    },
    {
      "cell_type": "markdown",
      "source": [
        "7.**break**: Termina la ejecución de un bucle for o while de manera inmediata, incluso si no se han recorrido todas las iteraciones."
      ],
      "metadata": {
        "id": "2iMEIzmn5EfK"
      }
    },
    {
      "cell_type": "code",
      "source": [
        "for i in range(5):\n",
        "    if i == 3:\n",
        "        break  # Sale del bucle cuando i es 3\n",
        "    print(i)\n"
      ],
      "metadata": {
        "colab": {
          "base_uri": "https://localhost:8080/"
        },
        "id": "8vcXqUrr5iHl",
        "outputId": "1235d399-764f-4c6b-8a24-b63244be40d3"
      },
      "execution_count": null,
      "outputs": [
        {
          "output_type": "stream",
          "name": "stdout",
          "text": [
            "0\n",
            "1\n",
            "2\n"
          ]
        }
      ]
    },
    {
      "cell_type": "markdown",
      "source": [
        "8.**class**: Define una clase, que es una plantilla para crear objetos (instancias) con propiedades y métodos. Las clases son la base de la programación orientada a objetos (OOP)."
      ],
      "metadata": {
        "id": "le0q6BLu5laE"
      }
    },
    {
      "cell_type": "code",
      "source": [
        "class Persona:\n",
        "    def __init__(self, nombre, edad):\n",
        "        self.nombre = nombre\n",
        "        self.edad = edad\n",
        "\n",
        "    def saludar(self):\n",
        "        return f\"Hola, mi nombre es {self.nombre}\"\n",
        "\n",
        "p = Persona(\"HUGO JULIAN\", 30)\n",
        "print(p.saludar())\n"
      ],
      "metadata": {
        "colab": {
          "base_uri": "https://localhost:8080/"
        },
        "id": "UZ_R1OSB5vFG",
        "outputId": "4fb5e5f6-8c46-428a-df08-7688900caf04"
      },
      "execution_count": null,
      "outputs": [
        {
          "output_type": "stream",
          "name": "stdout",
          "text": [
            "Hola, mi nombre es HUGO JULIAN\n"
          ]
        }
      ]
    },
    {
      "cell_type": "markdown",
      "source": [
        "9.**continue**: Se utiliza dentro de un bucle para omitir la iteración actual y continuar con la siguiente iteración."
      ],
      "metadata": {
        "id": "vxw53WGD59zI"
      }
    },
    {
      "cell_type": "code",
      "source": [
        "for i in range(5):\n",
        "    if i == 2:\n",
        "        continue  # Omite la iteración cuando i es 2\n",
        "    print(i)\n"
      ],
      "metadata": {
        "colab": {
          "base_uri": "https://localhost:8080/"
        },
        "id": "hP7eGNRp6C0x",
        "outputId": "0981936a-26c0-452f-8135-3a865db2270e"
      },
      "execution_count": null,
      "outputs": [
        {
          "output_type": "stream",
          "name": "stdout",
          "text": [
            "0\n",
            "1\n",
            "3\n",
            "4\n"
          ]
        }
      ]
    },
    {
      "cell_type": "markdown",
      "source": [
        "10.**def**: Se utiliza para definir funciones. Permite organizar el código en bloques reutilizables."
      ],
      "metadata": {
        "id": "7mQ5YDOQ6Hnf"
      }
    },
    {
      "cell_type": "code",
      "source": [
        "def saludar(nombre):\n",
        "    return f\"Hola {nombre}\"\n",
        "\n",
        "print(saludar(\"julian\"))\n"
      ],
      "metadata": {
        "colab": {
          "base_uri": "https://localhost:8080/"
        },
        "id": "h8IrhuYJ6Mx9",
        "outputId": "bf8c1d8a-c453-4171-91f2-99db2f870b60"
      },
      "execution_count": null,
      "outputs": [
        {
          "output_type": "stream",
          "name": "stdout",
          "text": [
            "Hola julian\n"
          ]
        }
      ]
    },
    {
      "cell_type": "markdown",
      "source": [
        "11.**del**: Se usa para eliminar objetos, variables, o elementos de una lista o diccionario."
      ],
      "metadata": {
        "id": "ZTWZ1jMH6Zp9"
      }
    },
    {
      "cell_type": "code",
      "source": [
        "lista = [1, 2, 3]\n",
        "del lista[1]  # Elimina el segundo elemento\n",
        "print(lista)  # [1, 3]\n"
      ],
      "metadata": {
        "colab": {
          "base_uri": "https://localhost:8080/"
        },
        "id": "qljmrRdf6eaj",
        "outputId": "842952b0-d52e-4f8e-bdd7-1d030a30b55d"
      },
      "execution_count": null,
      "outputs": [
        {
          "output_type": "stream",
          "name": "stdout",
          "text": [
            "[1, 3]\n"
          ]
        }
      ]
    },
    {
      "cell_type": "markdown",
      "source": [
        "12.**elif**: Es una abreviatura de \"else if\". Permite verificar múltiples condiciones en una secuencia de declaraciones if-else."
      ],
      "metadata": {
        "id": "VhnyTure6gq6"
      }
    },
    {
      "cell_type": "code",
      "source": [
        "x = 10\n",
        "if x < 5:\n",
        "    print(\"Menor que 5\")\n",
        "elif x == 10:\n",
        "    print(\"Es igual a 10\")\n",
        "else:\n",
        "    print(\"Mayor que 5\")\n"
      ],
      "metadata": {
        "colab": {
          "base_uri": "https://localhost:8080/"
        },
        "id": "5RtJ20jo6lR0",
        "outputId": "a01156db-d59c-4158-c88d-22f97f2a5c65"
      },
      "execution_count": null,
      "outputs": [
        {
          "output_type": "stream",
          "name": "stdout",
          "text": [
            "Es igual a 10\n"
          ]
        }
      ]
    },
    {
      "cell_type": "markdown",
      "source": [
        "13.**else**: Se usa para especificar un bloque de código que se ejecutará si ninguna de las condiciones anteriores en un bloque if-elif es verdadera."
      ],
      "metadata": {
        "id": "tfiUu6lW6pUo"
      }
    },
    {
      "cell_type": "code",
      "source": [
        "x = 20\n",
        "if x < 5:\n",
        "    print(\"Menor que 5\")\n",
        "else:\n",
        "    print(\"No es menor que 5\")\n"
      ],
      "metadata": {
        "colab": {
          "base_uri": "https://localhost:8080/"
        },
        "id": "3Owpjrwi6tDj",
        "outputId": "4996feda-effd-4c98-83b8-00d430e4d0b2"
      },
      "execution_count": null,
      "outputs": [
        {
          "output_type": "stream",
          "name": "stdout",
          "text": [
            "No es menor que 5\n"
          ]
        }
      ]
    },
    {
      "cell_type": "markdown",
      "source": [
        "14.**except**: Se usa para capturar y manejar excepciones en un bloque try-except. Permite manejar errores de manera controlada y evitar que el programa termine abruptamente."
      ],
      "metadata": {
        "id": "AF3aIc406xDE"
      }
    },
    {
      "cell_type": "code",
      "source": [
        "try:\n",
        "    1 / 0\n",
        "except ZeroDivisionError:\n",
        "    print(\"No se puede dividir entre cero\")\n"
      ],
      "metadata": {
        "colab": {
          "base_uri": "https://localhost:8080/"
        },
        "id": "7pxYV0iA7gN7",
        "outputId": "5bd1ab41-9fd0-409c-fe59-ebc05baa7c73"
      },
      "execution_count": null,
      "outputs": [
        {
          "output_type": "stream",
          "name": "stdout",
          "text": [
            "No se puede dividir entre cero\n"
          ]
        }
      ]
    },
    {
      "cell_type": "markdown",
      "source": [
        "15.**finally**: Es un bloque opcional que se ejecuta siempre después de un bloque try, independientemente de si se ha producido una excepción o no."
      ],
      "metadata": {
        "id": "XIHm5x8O7jHx"
      }
    },
    {
      "cell_type": "code",
      "source": [
        "try:\n",
        "    archivo = open(\"archivo.txt\", \"r\")\n",
        "except FileNotFoundError:\n",
        "    print(\"El archivo no existe.\")\n",
        "finally:\n",
        "    print(\"Esto siempre se ejecuta.\")\n"
      ],
      "metadata": {
        "colab": {
          "base_uri": "https://localhost:8080/"
        },
        "id": "SxJKBj1K7nkI",
        "outputId": "4214350d-6150-4020-c7a2-80051a243b9c"
      },
      "execution_count": null,
      "outputs": [
        {
          "output_type": "stream",
          "name": "stdout",
          "text": [
            "El archivo no existe.\n",
            "Esto siempre se ejecuta.\n"
          ]
        }
      ]
    },
    {
      "cell_type": "markdown",
      "source": [
        "16.**for**: Se usa para crear un bucle que itera sobre una secuencia (como una lista, tupla, o rango) y ejecuta el bloque de código en cada iteración."
      ],
      "metadata": {
        "id": "CN_eDPea7r6W"
      }
    },
    {
      "cell_type": "code",
      "source": [
        "for i in range(5):\n",
        "    print(i)\n"
      ],
      "metadata": {
        "colab": {
          "base_uri": "https://localhost:8080/"
        },
        "id": "frxeYkbC7xFM",
        "outputId": "33b7c3ab-5de1-40a1-b50c-6df86c482c7f"
      },
      "execution_count": null,
      "outputs": [
        {
          "output_type": "stream",
          "name": "stdout",
          "text": [
            "0\n",
            "1\n",
            "2\n",
            "3\n",
            "4\n"
          ]
        }
      ]
    },
    {
      "cell_type": "markdown",
      "source": [
        "17.**from**: Se usa para importar módulos o elementos específicos de un módulo."
      ],
      "metadata": {
        "id": "AKROLfQE70dx"
      }
    },
    {
      "cell_type": "code",
      "source": [
        "from math import sqrt\n",
        "print(sqrt(16))\n"
      ],
      "metadata": {
        "colab": {
          "base_uri": "https://localhost:8080/"
        },
        "id": "eanTFOB475B-",
        "outputId": "cf83d2a5-5a74-4d18-d3bc-ed2210ba002c"
      },
      "execution_count": null,
      "outputs": [
        {
          "output_type": "stream",
          "name": "stdout",
          "text": [
            "4.0\n"
          ]
        }
      ]
    },
    {
      "cell_type": "markdown",
      "source": [
        "18.**global**: Permite declarar una variable global dentro de una función, de modo que se pueda modificar fuera del alcance local."
      ],
      "metadata": {
        "id": "2aTDklc37-Ev"
      }
    },
    {
      "cell_type": "code",
      "source": [
        "x = 10\n",
        "def modificar_global():\n",
        "    global x\n",
        "    x = 20\n",
        "modificar_global()\n",
        "print(x)  # 20\n"
      ],
      "metadata": {
        "colab": {
          "base_uri": "https://localhost:8080/"
        },
        "id": "GeP8SSCV8BF7",
        "outputId": "0d1a5181-3f34-4607-fe20-193529d35ae6"
      },
      "execution_count": null,
      "outputs": [
        {
          "output_type": "stream",
          "name": "stdout",
          "text": [
            "20\n"
          ]
        }
      ]
    },
    {
      "cell_type": "markdown",
      "source": [
        "19.**is**: Se utiliza para comparar la identidad de dos objetos. Verifica si dos objetos son el mismo en memoria."
      ],
      "metadata": {
        "id": "hA9dbmru8Hnc"
      }
    },
    {
      "cell_type": "code",
      "source": [
        "a = [1, 2, 3]\n",
        "b = a\n",
        "print(a is b)  # True\n"
      ],
      "metadata": {
        "colab": {
          "base_uri": "https://localhost:8080/"
        },
        "id": "N9HVxHI88MB7",
        "outputId": "f2ac8734-f3e6-47f5-d501-eb0b340c71fd"
      },
      "execution_count": null,
      "outputs": [
        {
          "output_type": "stream",
          "name": "stdout",
          "text": [
            "True\n"
          ]
        }
      ]
    },
    {
      "cell_type": "markdown",
      "source": [
        "20.**lambda**: Permite crear funciones anónimas de una sola línea. Es útil cuando necesitas una función simple y no quieres definir una función completa."
      ],
      "metadata": {
        "id": "SL-TjJ2N8PYN"
      }
    },
    {
      "cell_type": "code",
      "source": [
        "sumar = lambda x, y: x + y\n",
        "print(sumar(3, 4))  # 7\n"
      ],
      "metadata": {
        "colab": {
          "base_uri": "https://localhost:8080/"
        },
        "id": "8LGB5C6E8UjT",
        "outputId": "c56e3ce9-30e3-4d42-b899-8179f6adfda3"
      },
      "execution_count": null,
      "outputs": [
        {
          "output_type": "stream",
          "name": "stdout",
          "text": [
            "7\n"
          ]
        }
      ]
    },
    {
      "cell_type": "markdown",
      "source": [
        "21.**nonlocal**: Se usa para declarar una variable no local (es decir, una variable que no es global ni local). Permite modificar una variable de un ámbito superior al de la función."
      ],
      "metadata": {
        "id": "e2L-xohE8WdJ"
      }
    },
    {
      "cell_type": "code",
      "source": [
        "def contador():\n",
        "    x = 0\n",
        "    def incrementar():\n",
        "        nonlocal x\n",
        "        x += 1\n",
        "    incrementar()\n",
        "    return x\n",
        "print(contador())  # 1\n"
      ],
      "metadata": {
        "colab": {
          "base_uri": "https://localhost:8080/"
        },
        "id": "0SfLCma48d5G",
        "outputId": "749c662e-8674-4429-a64d-d41bfd7c97e8"
      },
      "execution_count": null,
      "outputs": [
        {
          "output_type": "stream",
          "name": "stdout",
          "text": [
            "1\n"
          ]
        }
      ]
    },
    {
      "cell_type": "markdown",
      "source": [
        "22.**not**: Es un operador lógico que invierte el valor de una expresión booleana (es decir, cambia True a False y viceversa)."
      ],
      "metadata": {
        "id": "oQgF7rDu8f8v"
      }
    },
    {
      "cell_type": "code",
      "source": [
        "x = True\n",
        "print(not x)  # False\n"
      ],
      "metadata": {
        "colab": {
          "base_uri": "https://localhost:8080/"
        },
        "id": "hGqpJ6uK8mFu",
        "outputId": "b570f453-3c6f-4c2e-8972-9a605ddb5a56"
      },
      "execution_count": null,
      "outputs": [
        {
          "output_type": "stream",
          "name": "stdout",
          "text": [
            "False\n"
          ]
        }
      ]
    },
    {
      "cell_type": "markdown",
      "source": [
        "23.**import**: Permite importar módulos o paquetes de otros archivos para utilizarlos en el programa actual."
      ],
      "metadata": {
        "id": "AB4EMiX-8qRW"
      }
    },
    {
      "cell_type": "code",
      "source": [
        "import math\n",
        "print(math.sqrt(16))\n"
      ],
      "metadata": {
        "colab": {
          "base_uri": "https://localhost:8080/"
        },
        "id": "laznv2HG8u2a",
        "outputId": "9f62d09b-7d5f-415f-f5a2-9a2c21e5faca"
      },
      "execution_count": null,
      "outputs": [
        {
          "output_type": "stream",
          "name": "stdout",
          "text": [
            "4.0\n"
          ]
        }
      ]
    },
    {
      "cell_type": "markdown",
      "source": [
        "24.**in**: Se usa para verificar si un valor está presente dentro de una secuencia (como una lista, tupla, cadena, etc.)."
      ],
      "metadata": {
        "id": "JeH0Yoj_8xrU"
      }
    },
    {
      "cell_type": "code",
      "source": [
        "lista = [1, 2, 3]\n",
        "print(2 in lista)  # True\n"
      ],
      "metadata": {
        "colab": {
          "base_uri": "https://localhost:8080/"
        },
        "id": "SElMuesA84jk",
        "outputId": "0a339700-e436-4ada-fba3-07b6282f55ab"
      },
      "execution_count": null,
      "outputs": [
        {
          "output_type": "stream",
          "name": "stdout",
          "text": [
            "True\n"
          ]
        }
      ]
    },
    {
      "cell_type": "markdown",
      "source": [
        "25.**pass**: Es una declaración vacía que no realiza ninguna acción. Se usa como marcador de posición cuando se requiere sintácticamente una declaración pero no se quiere que haga nada."
      ],
      "metadata": {
        "id": "l0GBdxs689Dw"
      }
    },
    {
      "cell_type": "code",
      "source": [
        "def funcion_incompleta():\n",
        "    pass"
      ],
      "metadata": {
        "id": "tGagoARb8_2H"
      },
      "execution_count": null,
      "outputs": []
    },
    {
      "cell_type": "markdown",
      "source": [
        "26.**raise**: Se usa para generar una excepción de manera explícita."
      ],
      "metadata": {
        "id": "S33Tckco9Iy7"
      }
    },
    {
      "cell_type": "code",
      "source": [
        "def verificar_edad(edad):\n",
        "    if edad < 18:\n",
        "        raise ValueError(\"Debes tener al menos 18 años.\")\n",
        "\n",
        "try:\n",
        "    verificar_edad(15)  # Esto seguirá generando el ValueError\n",
        "except ValueError as e:\n",
        "    print(f\"Error: {e}\") # Esto imprimirá el mensaje de error en lugar de bloquear el programa"
      ],
      "metadata": {
        "colab": {
          "base_uri": "https://localhost:8080/"
        },
        "id": "q1XxOIBb9LdO",
        "outputId": "806e7a7c-c96d-4452-e02b-f505b1957652"
      },
      "execution_count": null,
      "outputs": [
        {
          "output_type": "stream",
          "name": "stdout",
          "text": [
            "Error: Debes tener al menos 18 años.\n"
          ]
        }
      ]
    },
    {
      "cell_type": "markdown",
      "source": [
        "27.**return**: Se usa dentro de una función para devolver un valor al lugar donde fue llamada.\n"
      ],
      "metadata": {
        "id": "IA8hBFgv9kdy"
      }
    },
    {
      "cell_type": "code",
      "source": [
        "def suma(a, b):\n",
        "    return a + b\n",
        "resultado = suma(3, 4)\n",
        "print(resultado)  # 7\n"
      ],
      "metadata": {
        "colab": {
          "base_uri": "https://localhost:8080/"
        },
        "id": "wdAmlyM49p5R",
        "outputId": "556f7eee-fcee-45e3-9104-487b0e79c30e"
      },
      "execution_count": null,
      "outputs": [
        {
          "output_type": "stream",
          "name": "stdout",
          "text": [
            "7\n"
          ]
        }
      ]
    },
    {
      "cell_type": "markdown",
      "source": [
        "28.**try**: Se usa para intentar ejecutar un bloque de código que puede generar una excepción. Si ocurre una excepción, se pasa al bloque except."
      ],
      "metadata": {
        "id": "Lwu7ATcY9r5q"
      }
    },
    {
      "cell_type": "code",
      "source": [
        "try:\n",
        "    print(10 / 0)\n",
        "except ZeroDivisionError:\n",
        "    print(\"No se puede dividir entre cero\")\n"
      ],
      "metadata": {
        "colab": {
          "base_uri": "https://localhost:8080/"
        },
        "id": "sAIS6JRu9xAK",
        "outputId": "0a95995b-0325-4848-d84a-a25908c46465"
      },
      "execution_count": null,
      "outputs": [
        {
          "output_type": "stream",
          "name": "stdout",
          "text": [
            "No se puede dividir entre cero\n"
          ]
        }
      ]
    },
    {
      "cell_type": "markdown",
      "source": [
        "29.**while**: Inicia un bucle que sigue ejecutándose mientras se cumpla una condición. Es útil cuando no se sabe cuántas iteraciones se necesitarán."
      ],
      "metadata": {
        "id": "qH3BomgF9zZV"
      }
    },
    {
      "cell_type": "code",
      "source": [
        "i = 0\n",
        "while i < 5:\n",
        "    print(i)\n",
        "    i += 1\n"
      ],
      "metadata": {
        "colab": {
          "base_uri": "https://localhost:8080/"
        },
        "id": "xM5AHNow96Tj",
        "outputId": "292f092f-a717-4bf4-d080-ec3748244251"
      },
      "execution_count": null,
      "outputs": [
        {
          "output_type": "stream",
          "name": "stdout",
          "text": [
            "0\n",
            "1\n",
            "2\n",
            "3\n",
            "4\n"
          ]
        }
      ]
    },
    {
      "cell_type": "markdown",
      "source": [
        "30.**with**: Se usa para envolver el manejo de recursos (como archivos o conexiones) de manera que los recursos se gestionen correctamente, incluso si ocurre una excepción."
      ],
      "metadata": {
        "id": "vU-7gvWq98pE"
      }
    },
    {
      "cell_type": "code",
      "source": [
        "# Usamos 'with' para abrir un archivo y asegurarnos de que se cierre automáticamente después de usarse\n",
        "with open(\"saludo.txt\", \"w\") as archivo:\n",
        "    archivo.write(\"¡Hola, mundo!\")\n",
        "\n",
        "# Ahora leemos el contenido del archivo\n",
        "with open(\"saludo.txt\", \"r\") as archivo:\n",
        "    contenido = archivo.read()\n",
        "    print(contenido)  # Esto imprimirá: ¡Hola, mundo!\n",
        "\n"
      ],
      "metadata": {
        "colab": {
          "base_uri": "https://localhost:8080/"
        },
        "id": "GXfr-WAl-YsR",
        "outputId": "42963803-efd3-4c8e-d37f-f0b6f7027b7d"
      },
      "execution_count": null,
      "outputs": [
        {
          "output_type": "stream",
          "name": "stdout",
          "text": [
            "¡Hola, mundo!\n"
          ]
        }
      ]
    },
    {
      "cell_type": "markdown",
      "source": [
        "31.**yield**: Se usa en una función generadora para devolver un valor sin salir de la función. Las funciones generadoras permiten iterar sobre sus resultados de manera perezosa."
      ],
      "metadata": {
        "id": "-aZXTWTk-ZJg"
      }
    },
    {
      "cell_type": "code",
      "source": [
        "def contar_hasta(n):\n",
        "    i = 0\n",
        "    while i < n:\n",
        "        yield i\n",
        "        i += 1\n",
        "\n",
        "for num in contar_hasta(5):\n",
        "    print(num)\n"
      ],
      "metadata": {
        "colab": {
          "base_uri": "https://localhost:8080/"
        },
        "id": "ahawOh0Z-eXv",
        "outputId": "4654461f-f245-4937-afa1-fecd37c4bda0"
      },
      "execution_count": null,
      "outputs": [
        {
          "output_type": "stream",
          "name": "stdout",
          "text": [
            "0\n",
            "1\n",
            "2\n",
            "3\n",
            "4\n"
          ]
        }
      ]
    },
    {
      "cell_type": "markdown",
      "source": [
        "32.**If**: Es una estructura condicional que permite ejecutar un bloque de código si se cumple una condición. Es una de las construcciones más utilizadas en la programación."
      ],
      "metadata": {
        "id": "UBGb7JKK-goN"
      }
    },
    {
      "cell_type": "code",
      "source": [
        "x = 10\n",
        "if x > 5:\n",
        "    print(\"x es mayor que 5\")\n"
      ],
      "metadata": {
        "colab": {
          "base_uri": "https://localhost:8080/"
        },
        "id": "TcxcUVMH-mNZ",
        "outputId": "afb26232-9f2b-4feb-8735-6a948750906b"
      },
      "execution_count": null,
      "outputs": [
        {
          "output_type": "stream",
          "name": "stdout",
          "text": [
            "x es mayor que 5\n"
          ]
        }
      ]
    },
    {
      "cell_type": "markdown",
      "source": [
        "33.**Or**: Es un operador lógico que devuelve True si alguna de las condiciones es verdadera. Si ambas condiciones son falsas, devuelve False."
      ],
      "metadata": {
        "id": "0Ac79zQB-pk5"
      }
    },
    {
      "cell_type": "code",
      "source": [
        "a = True\n",
        "b = False\n",
        "if a or b:\n",
        "    print(\"Al menos una de las condiciones es verdadera\")\n"
      ],
      "metadata": {
        "colab": {
          "base_uri": "https://localhost:8080/"
        },
        "id": "-VVSgbo8-uxj",
        "outputId": "7a0d0ee8-e337-4baf-e2f3-4143f8145efb"
      },
      "execution_count": null,
      "outputs": [
        {
          "output_type": "stream",
          "name": "stdout",
          "text": [
            "Al menos una de las condiciones es verdadera\n"
          ]
        }
      ]
    },
    {
      "cell_type": "markdown",
      "source": [
        "33.**Variable**: Una variable es un espacio de almacenamiento donde se pueden guardar valores para su uso en un programa."
      ],
      "metadata": {
        "id": "OOhcYLYCRN_2"
      }
    },
    {
      "cell_type": "code",
      "source": [
        "edad = 25\n",
        "nombre = \"Hugo\"\n",
        "print(f\"Hola, {nombre}. Tienes {edad} años.\")\n"
      ],
      "metadata": {
        "colab": {
          "base_uri": "https://localhost:8080/"
        },
        "id": "ti6-kEfzTwCc",
        "outputId": "a7bfe288-925a-4019-b421-c4a26f7d051c"
      },
      "execution_count": 2,
      "outputs": [
        {
          "output_type": "stream",
          "name": "stdout",
          "text": [
            "Hola, Hugo. Tienes 25 años.\n"
          ]
        }
      ]
    },
    {
      "cell_type": "markdown",
      "source": [
        "34**Comentarios (Comments)**: Los comentarios son líneas de código que no se ejecutan, pero que sirven para hacer que el código sea más legible y fácil de entender."
      ],
      "metadata": {
        "id": "jZUEjPrYT2Qb"
      }
    },
    {
      "cell_type": "code",
      "source": [
        "# Este es un comentario\n",
        "x = 10  # Este es un comentario al final de una línea\n",
        "\n"
      ],
      "metadata": {
        "id": "FDkinpyjU9mS"
      },
      "execution_count": 7,
      "outputs": []
    },
    {
      "cell_type": "markdown",
      "source": [
        "35.**except**: En Python se utiliza en el manejo de excepciones. Cuando escribimos código, pueden ocurrir errores durante la ejecución del programa. Estos errores se conocen como excepciones. La estructura try-except permite capturar y manejar esas excepciones para que el programa no se interrumpa abruptamente."
      ],
      "metadata": {
        "id": "ZEDO95sjVMzq"
      }
    },
    {
      "cell_type": "code",
      "source": [
        "try:\n",
        "    # Intentamos dividir por cero\n",
        "    resultado = 10 / 0\n",
        "except ZeroDivisionError:\n",
        "    # Capturamos la excepción de división por cero\n",
        "    print(\"No se puede dividir por cero.\")\n"
      ],
      "metadata": {
        "colab": {
          "base_uri": "https://localhost:8080/"
        },
        "id": "0-OQjROyVbOK",
        "outputId": "67e23661-ae08-42c3-b5c3-8f600cd278bb"
      },
      "execution_count": 8,
      "outputs": [
        {
          "output_type": "stream",
          "name": "stdout",
          "text": [
            "No se puede dividir por cero.\n"
          ]
        }
      ]
    },
    {
      "cell_type": "markdown",
      "source": [
        "36.**case**: Generalmente se refiere a la estructura de control utilizada para tomar decisiones en función del valor de una variable. Sin embargo, el término \"case\" varía su uso dependiendo del lenguaje de programación. En algunos lenguajes, como C, C++ o Java, el término case es parte de una declaración de switch, mientras que en otros lenguajes como Python, no existe un switch nativo, pero podemos simularlo con if-elif."
      ],
      "metadata": {
        "id": "tGn8WwbzVeTj"
      }
    },
    {
      "cell_type": "code",
      "source": [
        "def dia_de_la_semana(numero_dia):\n",
        "    if numero_dia == 1:\n",
        "        dia = \"Lunes\"\n",
        "    elif numero_dia == 2:\n",
        "        dia = \"Martes\"\n",
        "    elif numero_dia == 3:\n",
        "        dia = \"Miércoles\"\n",
        "    elif numero_dia == 4:\n",
        "        dia = \"Jueves\"\n",
        "    elif numero_dia == 5:\n",
        "        dia = \"Viernes\"\n",
        "    elif numero_dia == 6:\n",
        "        dia = \"Sábado\"\n",
        "    elif numero_dia == 7:\n",
        "        dia = \"Domingo\"\n",
        "    else:\n",
        "        dia = \"Número de día inválido\"\n",
        "    return dia\n",
        "\n",
        "# Obtener el día de la semana para el número 3\n",
        "dia = dia_de_la_semana(3)\n",
        "print(dia)  # Output: Miércoles\n",
        "\n",
        "# Obtener el día de la semana para el número 8\n",
        "dia = dia_de_la_semana(8)\n",
        "print(dia)  # Output: Número de día inválido\n"
      ],
      "metadata": {
        "colab": {
          "base_uri": "https://localhost:8080/"
        },
        "id": "8D6ocl7PVnUZ",
        "outputId": "82dcc58c-31c9-4d68-edac-30b65261219b"
      },
      "execution_count": 16,
      "outputs": [
        {
          "output_type": "stream",
          "name": "stdout",
          "text": [
            "Miércoles\n",
            "Número de día inválido\n"
          ]
        }
      ]
    },
    {
      "cell_type": "markdown",
      "source": [
        "37.**Match**:En Python compara una variable con distintos patrones, y se ejecuta el bloque de código correspondiente al primer patrón que coincida. Esta es una característica muy poderosa y flexible, que permite hacer coincidencias complejas en objetos, estructuras de datos y más."
      ],
      "metadata": {
        "id": "ILtktqKqWBMB"
      }
    },
    {
      "cell_type": "code",
      "source": [
        "def dia_de_la_semana(numero_dia):\n",
        "    match numero_dia:\n",
        "        case 1:\n",
        "            return \"Lunes\"\n",
        "        case 2:\n",
        "            return \"Martes\"\n",
        "        case 3:\n",
        "            return \"Miércoles\"\n",
        "        case 4:\n",
        "            return \"Jueves\"\n",
        "        case 5:\n",
        "            return \"Viernes\"\n",
        "        case 6:\n",
        "            return \"Sábado\"\n",
        "        case 7:\n",
        "            return \"Domingo\"\n",
        "        case _:\n",
        "            return \"Número de día inválido\"\n",
        "\n",
        "# Obtener el día de la semana para el número 3\n",
        "dia = dia_de_la_semana(3)\n",
        "print(dia)  # Output: Miércoles\n",
        "\n",
        "# Obtener el día de la semana para el número 8\n",
        "dia = dia_de_la_semana(8)\n",
        "print(dia)  # Output: Número de día inválido\n"
      ],
      "metadata": {
        "colab": {
          "base_uri": "https://localhost:8080/"
        },
        "id": "MlNVTGuWWJNa",
        "outputId": "7f15bf0c-2a0f-43c5-f1b9-66caf3eb7163"
      },
      "execution_count": 18,
      "outputs": [
        {
          "output_type": "stream",
          "name": "stdout",
          "text": [
            "Miércoles\n",
            "Número de día inválido\n"
          ]
        }
      ]
    },
    {
      "cell_type": "markdown",
      "source": [
        "38.**assign**: La asignación es el proceso de almacenar un valor (o una expresión) en una variable para que luego puedas referenciarla en otras partes de tu programa."
      ],
      "metadata": {
        "id": "DRzCuPDbWQlI"
      }
    },
    {
      "cell_type": "code",
      "source": [
        "edad = 25\n",
        "nombre = \"Hugo\"\n",
        "print(f\"Hola, {nombre}. Tienes {edad} años.\")\n"
      ],
      "metadata": {
        "colab": {
          "base_uri": "https://localhost:8080/"
        },
        "id": "hns3NlliWaOp",
        "outputId": "0d9827ee-f527-47f7-85d8-bbd7309f1c19"
      },
      "execution_count": 19,
      "outputs": [
        {
          "output_type": "stream",
          "name": "stdout",
          "text": [
            "Hola, Hugo. Tienes 25 años.\n"
          ]
        }
      ]
    },
    {
      "cell_type": "markdown",
      "source": [
        "39.**await**:Se usa para pausar la ejecución de una función asíncrona hasta que la corutina a la que se le aplica haya completado su ejecución. Esto permite que el programa no se bloquee y pueda seguir trabajando en otras tareas mientras espera a que termine la operación asincrónica."
      ],
      "metadata": {
        "id": "NJKZsRt-Wgt6"
      }
    },
    {
      "cell_type": "code",
      "source": [
        "import asyncio\n",
        "import aiohttp\n",
        "\n",
        "async def descargar_pagina(url):\n",
        "    async with aiohttp.ClientSession() as session:\n",
        "        async with session.get(url) as response:\n",
        "            print(f\"Descargando {url}...\")\n",
        "            contenido = await response.text()  # Pausa la ejecución hasta que se descargue el contenido\n",
        "            print(f\"Descarga de {url} completada.\")\n",
        "            return contenido\n",
        "\n",
        "async def main():\n",
        "    urls = [\n",
        "        \"https://www.example.com\",\n",
        "        \"https://www.google.com\",\n",
        "        \"https://www.python.org\"\n",
        "    ]\n",
        "\n",
        "    tareas = [descargar_pagina(url) for url in urls]  # Crea una lista de tareas\n",
        "\n",
        "    resultados = await asyncio.gather(*tareas)  # Ejecuta las tareas concurrentemente\n",
        "\n",
        "    for i, resultado in enumerate(resultados):\n",
        "        print(f\"Contenido de {urls[i]} (primeros 100 caracteres):\\n{resultado[:100]}\")\n",
        "\n",
        "# Instead of asyncio.run, use the following in a Jupyter Notebook or IPython environment:\n",
        "await main() # This will execute the main function within the existing event loop."
      ],
      "metadata": {
        "colab": {
          "base_uri": "https://localhost:8080/"
        },
        "id": "4qU3P6bRWr94",
        "outputId": "36af86a5-c284-4284-eabd-445d40bbb647"
      },
      "execution_count": 25,
      "outputs": [
        {
          "output_type": "stream",
          "name": "stdout",
          "text": [
            "Descargando https://www.google.com...\n",
            "Descarga de https://www.google.com completada.\n",
            "Descargando https://www.python.org...\n",
            "Descargando https://www.example.com...\n",
            "Descarga de https://www.example.com completada.\n",
            "Descarga de https://www.python.org completada.\n",
            "Contenido de https://www.example.com (primeros 100 caracteres):\n",
            "<!doctype html>\n",
            "<html>\n",
            "<head>\n",
            "    <title>Example Domain</title>\n",
            "\n",
            "    <meta charset=\"utf-8\" />\n",
            "    <m\n",
            "Contenido de https://www.google.com (primeros 100 caracteres):\n",
            "<!doctype html><html itemscope=\"\" itemtype=\"http://schema.org/WebPage\" lang=\"en\"><head><meta content\n",
            "Contenido de https://www.python.org (primeros 100 caracteres):\n",
            "<!doctype html>\n",
            "<!--[if lt IE 7]>   <html class=\"no-js ie6 lt-ie7 lt-ie8 lt-ie9\">   <![endif]-->\n",
            "<!-\n"
          ]
        }
      ]
    },
    {
      "cell_type": "markdown",
      "source": [
        "40.**int**:Es una función incorporada y un tipo de dato fundamental que se utiliza para representar números enteros. Un entero es un número sin parte decimal, que puede ser positivo, negativo o incluso cero."
      ],
      "metadata": {
        "id": "N2vovHbwXHwa"
      }
    },
    {
      "cell_type": "code",
      "source": [
        "# Convertir una cadena que contiene un número a entero\n",
        "cadena = \"123\"\n",
        "numero = int(cadena)\n",
        "print(numero)  # Salida: 123\n",
        "print(type(numero))  # Salida: <class 'int'>\n",
        "\n",
        "# Convertir un número flotante a entero\n",
        "flotante = 3.14\n",
        "entero = int(flotante)\n",
        "print(entero)  # Salida: 3 (el valor decimal se descarta)\n",
        "\n",
        "# Convertir un número negativo en cadena\n",
        "cadena_negativa = \"-56\"\n",
        "numero_negativo = int(cadena_negativa)\n",
        "print(numero_negativo)  # Salida: -56\n"
      ],
      "metadata": {
        "colab": {
          "base_uri": "https://localhost:8080/"
        },
        "id": "AVajuZq6XOHo",
        "outputId": "f7dba5ec-8b25-4f59-f267-602a6c5c82c6"
      },
      "execution_count": 26,
      "outputs": [
        {
          "output_type": "stream",
          "name": "stdout",
          "text": [
            "123\n",
            "<class 'int'>\n",
            "3\n",
            "-56\n"
          ]
        }
      ]
    },
    {
      "cell_type": "markdown",
      "source": [
        "41.**float**:es un tipo de dato que se utiliza para representar números de punto flotante, es decir, números reales que tienen una parte decimal. Los float pueden ser números positivos o negativos y pueden tener una parte fraccionaria."
      ],
      "metadata": {
        "id": "3MQxbhvbXVqx"
      }
    },
    {
      "cell_type": "code",
      "source": [
        "# Convertir una cadena que contiene un número con decimales a float\n",
        "cadena = \"12.34\"\n",
        "numero_flotante = float(cadena)\n",
        "print(numero_flotante)  # Salida: 12.34\n",
        "print(type(numero_flotante))  # Salida: <class 'float'>\n",
        "\n",
        "# Convertir un número entero a float\n",
        "entero = 10\n",
        "numero_flotante = float(entero)\n",
        "print(numero_flotante)  # Salida: 10.0\n"
      ],
      "metadata": {
        "colab": {
          "base_uri": "https://localhost:8080/"
        },
        "id": "VCXSdq6mXjRg",
        "outputId": "19f60279-0d0f-446e-fdfe-248feed8b1a1"
      },
      "execution_count": 27,
      "outputs": [
        {
          "output_type": "stream",
          "name": "stdout",
          "text": [
            "12.34\n",
            "<class 'float'>\n",
            "10.0\n"
          ]
        }
      ]
    }
  ]
}