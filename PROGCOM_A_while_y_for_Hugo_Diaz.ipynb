{
  "nbformat": 4,
  "nbformat_minor": 0,
  "metadata": {
    "colab": {
      "provenance": []
    },
    "kernelspec": {
      "name": "python3",
      "display_name": "Python 3"
    },
    "language_info": {
      "name": "python"
    }
  },
  "cells": [
    {
      "cell_type": "code",
      "source": [
        "# Programa para determinar el tipo de triángulo según sus lados\n",
        "\n",
        "while True:\n",
        "    try:\n",
        "        # Solicitar los tres lados del triángulo\n",
        "        a = float(input(\"Ingresa el primer lado del triángulo: \"))\n",
        "        b = float(input(\"Ingresa el segundo lado del triángulo: \"))\n",
        "        c = float(input(\"Ingresa el tercer lado del triángulo: \"))\n",
        "\n",
        "        # Verificar si los lados forman un triángulo válido\n",
        "        if a <= 0 or b <= 0 or c <= 0:\n",
        "            print(\"Los lados deben ser mayores que cero. Intenta nuevamente.\")\n",
        "            continue\n",
        "        elif a + b <= c or a + c <= b or b + c <= a:\n",
        "            print(\"No es un triángulo válido. La suma de dos lados debe ser mayor que el tercero.\")\n",
        "            continue\n",
        "\n",
        "        # Determinar el tipo de triángulo\n",
        "        if a == b == c:\n",
        "            print(\"El triángulo es equilátero.\")\n",
        "        elif a == b or a == c or b == c:\n",
        "            print(\"El triángulo es isósceles.\")\n",
        "        else:\n",
        "            print(\"El triángulo es escaleno.\")\n",
        "\n",
        "        break  # Salir del ciclo si todo es correcto\n",
        "    except ValueError:\n",
        "        print(\"Por favor, ingresa un número válido. Intenta nuevamente.\")\n"
      ],
      "metadata": {
        "id": "Ns61_OroTeGG",
        "colab": {
          "base_uri": "https://localhost:8080/"
        },
        "outputId": "b97d7dd4-9d99-419d-e359-73c3111fdd92"
      },
      "execution_count": 1,
      "outputs": [
        {
          "output_type": "stream",
          "name": "stdout",
          "text": [
            "Ingresa el primer lado del triángulo: 14\n",
            "Ingresa el segundo lado del triángulo: 12\n",
            "Ingresa el tercer lado del triángulo: 20\n",
            "El triángulo es escaleno.\n"
          ]
        }
      ]
    },
    {
      "cell_type": "code",
      "source": [
        "# Programa para calcular el IMC y determinar la categoría\n",
        "\n",
        "while True:\n",
        "    try:\n",
        "        # Solicitar el nombre del usuario\n",
        "        nombre = input(\"Ingresa tu nombre: \")\n",
        "\n",
        "        # Solicitar peso (en kg) y altura (en metros)\n",
        "        peso = float(input(\"Ingresa tu peso en kilogramos: \"))\n",
        "        altura = float(input(\"Ingresa tu altura en metros: \"))\n",
        "\n",
        "        # Validar que el peso y la altura sean positivos\n",
        "        if peso <= 0 or altura <= 0:\n",
        "            print(\"El peso y la altura deben ser mayores que cero. Intenta nuevamente.\")\n",
        "            continue\n",
        "\n",
        "        # Calcular el IMC\n",
        "        imc = peso / (altura ** 2)\n",
        "\n",
        "        # Determinar la categoría\n",
        "        if imc < 18.5:\n",
        "            categoria = \"Bajo peso\"\n",
        "            descripcion = \"Debes considerar aumentar tu ingesta calórica y consultar a un nutricionista.\"\n",
        "        elif 18.5 <= imc < 24.9:\n",
        "            categoria = \"Normal\"\n",
        "            descripcion = \"Tu peso es saludable. Continúa con una dieta balanceada y ejercicio regular.\"\n",
        "        elif 25 <= imc < 29.9:\n",
        "            categoria = \"Sobrepeso\"\n",
        "            descripcion = \"Debes cuidar tu dieta y hacer más ejercicio para prevenir problemas de salud.\"\n",
        "        else:\n",
        "            categoria = \"Obesidad\"\n",
        "            descripcion = \"Es importante que busques orientación médica y sigas un plan de alimentación y ejercicio.\"\n",
        "\n",
        "        # Imprimir el resultado\n",
        "        print(f\"\\nNombre: {nombre}\")\n",
        "        print(f\"IMC: {imc:.2f}\")\n",
        "        print(f\"Categoría: {categoria}\")\n",
        "        print(f\"Descripción: {descripcion}\")\n",
        "\n",
        "        break  # Salir del ciclo si todo es correcto\n",
        "\n",
        "    except ValueError:\n",
        "        print(\"Por favor, ingresa un número válido. Intenta nuevamente.\")\n"
      ],
      "metadata": {
        "colab": {
          "base_uri": "https://localhost:8080/"
        },
        "id": "55O8hZMZVkMq",
        "outputId": "fa2e2bad-4fc3-4419-f31f-3546babd2491"
      },
      "execution_count": 2,
      "outputs": [
        {
          "output_type": "stream",
          "name": "stdout",
          "text": [
            "Ingresa tu nombre: Hugo\n",
            "Ingresa tu peso en kilogramos: 85\n",
            "Ingresa tu altura en metros: 181\n",
            "\n",
            "Nombre: Hugo\n",
            "IMC: 0.00\n",
            "Categoría: Bajo peso\n",
            "Descripción: Debes considerar aumentar tu ingesta calórica y consultar a un nutricionista.\n"
          ]
        }
      ]
    },
    {
      "cell_type": "code",
      "source": [
        "# Programa para una calculadora simple\n",
        "\n",
        "while True:\n",
        "    print(\"\\nOperaciones disponibles:\")\n",
        "    print(\"1. Sumar (+)\")\n",
        "    print(\"2. Restar (-)\")\n",
        "    print(\"3. Multiplicar (*)\")\n",
        "    print(\"4. Dividir (/)\")\n",
        "    print(\"5. Salir\")\n",
        "\n",
        "    # Solicitar la operación que desea realizar el usuario\n",
        "    operacion = input(\"\\nElige una operación (1/2/3/4/5): \")\n",
        "\n",
        "    # Verificar si el usuario quiere salir\n",
        "    if operacion == '5':\n",
        "        print(\"¡Gracias por usar la calculadora! Adiós.\")\n",
        "        break\n",
        "\n",
        "    # Comprobar que la opción ingresada es válida\n",
        "    if operacion not in ['1', '2', '3', '4']:\n",
        "        print(\"Opción no válida. Por favor, ingresa una opción del 1 al 4.\")\n",
        "        continue\n",
        "\n",
        "    # Solicitar los dos números\n",
        "    try:\n",
        "        num1 = float(input(\"Ingresa el primer número: \"))\n",
        "        num2 = float(input(\"Ingresa el segundo número: \"))\n",
        "    except ValueError:\n",
        "        print(\"Por favor, ingresa números válidos.\")\n",
        "        continue\n",
        "\n",
        "    # Realizar la operación según la elección del usuario\n",
        "    if operacion == '1':  # Sumar\n",
        "        resultado = num1 + num2\n",
        "        print(f\"\\nEl resultado de {num1} + {num2} es {resultado}\")\n",
        "    elif operacion == '2':  # Restar\n",
        "        resultado = num1 - num2\n",
        "        print(f\"\\nEl resultado de {num1} - {num2} es {resultado}\")\n",
        "    elif operacion == '3':  # Multiplicar\n",
        "        resultado = num1 * num2\n",
        "        print(f\"\\nEl resultado de {num1} * {num2} es {resultado}\")\n",
        "    elif operacion == '4':  # Dividir\n",
        "        if num2 == 0:\n",
        "            print(\"Error: No se puede dividir entre cero.\")\n",
        "        else:\n",
        "            resultado = num1 / num2\n",
        "            print(f\"\\nEl resultado de {num1} / {num2} es {resultado}\")\n",
        "\n",
        "    # Preguntar si el usuario desea realizar otra operación\n",
        "    otra_operacion = input(\"\\n¿Deseas realizar otra operación? (sí/no): \").lower()\n",
        "    if otra_operacion != \"sí\":\n",
        "        print(\"¡Gracias por usar la calculadora! Adiós.\")\n",
        "        break\n"
      ],
      "metadata": {
        "colab": {
          "base_uri": "https://localhost:8080/"
        },
        "id": "VkAyhSX_WZeN",
        "outputId": "d006b885-d6f1-47d0-f886-d7c8b4317abc"
      },
      "execution_count": 3,
      "outputs": [
        {
          "output_type": "stream",
          "name": "stdout",
          "text": [
            "\n",
            "Operaciones disponibles:\n",
            "1. Sumar (+)\n",
            "2. Restar (-)\n",
            "3. Multiplicar (*)\n",
            "4. Dividir (/)\n",
            "5. Salir\n",
            "\n",
            "Elige una operación (1/2/3/4/5): 2\n",
            "Ingresa el primer número: 3\n",
            "Ingresa el segundo número: 4\n",
            "\n",
            "El resultado de 3.0 - 4.0 es -1.0\n",
            "\n",
            "¿Deseas realizar otra operación? (sí/no): no\n",
            "¡Gracias por usar la calculadora! Adiós.\n"
          ]
        }
      ]
    },
    {
      "cell_type": "code",
      "source": [
        "# Programa para determinar la calificación en letras según una nota numérica\n",
        "\n",
        "while True:\n",
        "    try:\n",
        "        # Solicitar la nota numérica\n",
        "        nota = float(input(\"Ingresa la nota (0-100): \"))\n",
        "\n",
        "        # Verificar que la nota esté dentro del rango válido\n",
        "        if nota < 0 or nota > 100:\n",
        "            print(\"La nota debe estar entre 0 y 100. Intenta nuevamente.\")\n",
        "            continue\n",
        "\n",
        "        # Determinar la calificación en letras\n",
        "        if nota >= 90:\n",
        "            calificacion = \"A\"\n",
        "        elif nota >= 80:\n",
        "            calificacion = \"B\"\n",
        "        elif nota >= 70:\n",
        "            calificacion = \"C\"\n",
        "        elif nota >= 60:\n",
        "            calificacion = \"D\"\n",
        "        else:\n",
        "            calificacion = \"F\"\n",
        "\n",
        "        # Imprimir el resultado\n",
        "        print(f\"La calificación es: {calificacion}\")\n",
        "\n",
        "        # Preguntar si el usuario desea ingresar otra nota\n",
        "        otra_nota = input(\"\\n¿Deseas ingresar otra nota? (sí/no): \").lower()\n",
        "        if otra_nota != \"sí\":\n",
        "            print(\"¡Gracias por usar el programa! Adiós.\")\n",
        "            break  # Salir del ciclo si el usuario no quiere continuar\n",
        "\n",
        "    except ValueError:\n",
        "        print(\"Por favor, ingresa una nota numérica válida. Intenta nuevamente.\")\n"
      ],
      "metadata": {
        "colab": {
          "base_uri": "https://localhost:8080/"
        },
        "id": "cNoPq1BFXBHN",
        "outputId": "47a45af0-3000-4f1f-c43c-754a91111c3a"
      },
      "execution_count": 4,
      "outputs": [
        {
          "output_type": "stream",
          "name": "stdout",
          "text": [
            "Ingresa la nota (0-100): 98\n",
            "La calificación es: A\n",
            "\n",
            "¿Deseas ingresar otra nota? (sí/no): no\n",
            "¡Gracias por usar el programa! Adiós.\n"
          ]
        }
      ]
    },
    {
      "cell_type": "code",
      "source": [
        "# Programa para determinar el día de la semana según un número (1-7)\n",
        "\n",
        "while True:\n",
        "    try:\n",
        "        # Solicitar el número del día\n",
        "        numero = int(input(\"Ingresa un número del 1 al 7 para conocer el día de la semana: \"))\n",
        "\n",
        "        # Verificar que el número esté en el rango correcto\n",
        "        if numero < 1 or numero > 7:\n",
        "            print(\"Número inválido. Debes ingresar un número entre 1 y 7. Intenta nuevamente.\")\n",
        "            continue\n",
        "\n",
        "        # Determinar el día de la semana\n",
        "        if numero == 1:\n",
        "            dia = \"Lunes\"\n",
        "        elif numero == 2:\n",
        "            dia = \"Martes\"\n",
        "        elif numero == 3:\n",
        "            dia = \"Miércoles\"\n",
        "        elif numero == 4:\n",
        "            dia = \"Jueves\"\n",
        "        elif numero == 5:\n",
        "            dia = \"Viernes\"\n",
        "        elif numero == 6:\n",
        "            dia = \"Sábado\"\n",
        "        else:\n",
        "            dia = \"Domingo\"\n",
        "\n",
        "        # Imprimir el día de la semana\n",
        "        print(f\"El día de la semana es: {dia}\")\n",
        "\n",
        "        # Preguntar si el usuario desea ingresar otro número\n",
        "        otra_introduccion = input(\"\\n¿Deseas ingresar otro número? (sí/no): \").lower()\n",
        "        if otra_introduccion != \"sí\":\n",
        "            print(\"¡Gracias por usar el programa! Adiós.\")\n",
        "            break  # Salir del ciclo si el usuario no quiere continuar\n",
        "\n",
        "    except ValueError:\n",
        "        print(\"Por favor, ingresa un número válido. Intenta nuevamente.\")\n"
      ],
      "metadata": {
        "colab": {
          "base_uri": "https://localhost:8080/"
        },
        "id": "nYNbKE_HXXcx",
        "outputId": "6dd0c448-a3e0-4d21-e518-86d1e4df35b3"
      },
      "execution_count": 5,
      "outputs": [
        {
          "output_type": "stream",
          "name": "stdout",
          "text": [
            "Ingresa un número del 1 al 7 para conocer el día de la semana: 5\n",
            "El día de la semana es: Viernes\n",
            "\n",
            "¿Deseas ingresar otro número? (sí/no): no\n",
            "¡Gracias por usar el programa! Adiós.\n"
          ]
        }
      ]
    },
    {
      "cell_type": "code",
      "source": [
        "# Programa para validar si tres números pueden formar un triángulo y determinar su tipo\n",
        "\n",
        "while True:\n",
        "    try:\n",
        "        # Solicitar los tres lados del triángulo\n",
        "        a = float(input(\"Ingresa el primer lado del triángulo: \"))\n",
        "        b = float(input(\"Ingresa el segundo lado del triángulo: \"))\n",
        "        c = float(input(\"Ingresa el tercer lado del triángulo: \"))\n",
        "\n",
        "        # Verificar que los lados sean positivos\n",
        "        if a <= 0 or b <= 0 or c <= 0:\n",
        "            print(\"Los lados deben ser números positivos. Intenta nuevamente.\")\n",
        "            continue\n",
        "\n",
        "        # Verificar si los tres lados cumplen con la condición para formar un triángulo\n",
        "        if a + b > c and a + c > b and b + c > a:\n",
        "            # Determinar el tipo de triángulo\n",
        "            if a == b == c:\n",
        "                tipo = \"Equilátero\"\n",
        "            elif a == b or a == c or b == c:\n",
        "                tipo = \"Isósceles\"\n",
        "            else:\n",
        "                tipo = \"Escaleno\"\n",
        "\n",
        "            print(f\"¡Sí! Los números pueden formar un triángulo {tipo}.\")\n",
        "        else:\n",
        "            print(\"No se puede formar un triángulo con estos números.\")\n",
        "\n",
        "        # Preguntar si el usuario quiere intentar con otros lados\n",
        "        otra_introduccion = input(\"\\n¿Quieres intentar con otros lados? (sí/no): \").lower()\n",
        "        if otra_introduccion != \"sí\":\n",
        "            print(\"¡Gracias por usar el programa! Adiós.\")\n",
        "            break  # Salir del ciclo si el usuario no quiere continuar\n",
        "\n",
        "    except ValueError:\n",
        "        print(\"Por favor, ingresa valores válidos. Intenta nuevamente.\")\n"
      ],
      "metadata": {
        "colab": {
          "base_uri": "https://localhost:8080/"
        },
        "id": "PPnPIFQEXq6G",
        "outputId": "2758bad2-c941-4f87-9c35-34502e0a3236"
      },
      "execution_count": 6,
      "outputs": [
        {
          "output_type": "stream",
          "name": "stdout",
          "text": [
            "Ingresa el primer lado del triángulo: 3\n",
            "Ingresa el segundo lado del triángulo: 4\n",
            "Ingresa el tercer lado del triángulo: 2\n",
            "¡Sí! Los números pueden formar un triángulo Escaleno.\n",
            "\n",
            "¿Quieres intentar con otros lados? (sí/no): no\n",
            "¡Gracias por usar el programa! Adiós.\n"
          ]
        }
      ]
    },
    {
      "cell_type": "code",
      "source": [
        "# Programa para mostrar la tabla de multiplicar de un número\n",
        "\n",
        "while True:\n",
        "    try:\n",
        "        numero = int(input(\"Ingresa un número para mostrar su tabla de multiplicar: \"))\n",
        "\n",
        "        # Mostrar la tabla de multiplicar del número\n",
        "        i = 1\n",
        "        while i <= 10:\n",
        "            print(f\"{numero} x {i} = {numero * i}\")\n",
        "            i += 1\n",
        "\n",
        "        # Preguntar si el usuario desea ver otra tabla\n",
        "        otra_tabla = input(\"\\n¿Deseas ver otra tabla? (sí/no): \").lower()\n",
        "        if otra_tabla != \"sí\":\n",
        "            print(\"¡Gracias por usar el programa! Adiós.\")\n",
        "            break\n",
        "\n",
        "    except ValueError:\n",
        "        print(\"Por favor, ingresa un número válido. Intenta nuevamente.\")\n",
        "\n",
        "\n"
      ],
      "metadata": {
        "colab": {
          "base_uri": "https://localhost:8080/"
        },
        "id": "jSbotCqIX_ey",
        "outputId": "79c31bb9-02c1-44c9-8f7b-dc537e80cb5b"
      },
      "execution_count": 7,
      "outputs": [
        {
          "output_type": "stream",
          "name": "stdout",
          "text": [
            "Ingresa un número para mostrar su tabla de multiplicar: 3\n",
            "3 x 1 = 3\n",
            "3 x 2 = 6\n",
            "3 x 3 = 9\n",
            "3 x 4 = 12\n",
            "3 x 5 = 15\n",
            "3 x 6 = 18\n",
            "3 x 7 = 21\n",
            "3 x 8 = 24\n",
            "3 x 9 = 27\n",
            "3 x 10 = 30\n",
            "\n",
            "¿Deseas ver otra tabla? (sí/no): 6\n",
            "¡Gracias por usar el programa! Adiós.\n"
          ]
        }
      ]
    },
    {
      "cell_type": "code",
      "source": [
        "# Programa para calcular la suma de números naturales hasta n\n",
        "\n",
        "while True:\n",
        "    try:\n",
        "        n = int(input(\"Ingresa el valor de n para calcular la suma de números naturales hasta n: \"))\n",
        "\n",
        "        if n < 0:\n",
        "            print(\"Por favor, ingresa un número natural (positivo). Intenta nuevamente.\")\n",
        "            continue\n",
        "\n",
        "        suma = 0\n",
        "        i = 1\n",
        "        while i <= n:\n",
        "            suma += i\n",
        "            i += 1\n",
        "\n",
        "        print(f\"La suma de los primeros {n} números naturales es: {suma}\")\n",
        "\n",
        "        # Preguntar si el usuario desea calcular otra suma\n",
        "        otra_suma = input(\"\\n¿Deseas calcular otra suma? (sí/no): \").lower()\n",
        "        if otra_suma != \"sí\":\n",
        "            print(\"¡Gracias por usar el programa! Adiós.\")\n",
        "            break\n",
        "\n",
        "    except ValueError:\n",
        "        print(\"Por favor, ingresa un número válido. Intenta nuevamente.\")\n"
      ],
      "metadata": {
        "colab": {
          "base_uri": "https://localhost:8080/"
        },
        "id": "Ydf9MO1GZusK",
        "outputId": "dcfddf4d-7eb5-460d-8873-8da267879657"
      },
      "execution_count": 8,
      "outputs": [
        {
          "output_type": "stream",
          "name": "stdout",
          "text": [
            "Ingresa el valor de n para calcular la suma de números naturales hasta n: 3\n",
            "La suma de los primeros 3 números naturales es: 6\n",
            "\n",
            "¿Deseas calcular otra suma? (sí/no): no\n",
            "¡Gracias por usar el programa! Adiós.\n"
          ]
        }
      ]
    },
    {
      "cell_type": "code",
      "source": [
        "# Programa para calcular el factorial de un número\n",
        "\n",
        "while True:\n",
        "    try:\n",
        "        numero = int(input(\"Ingresa un número para calcular su factorial: \"))\n",
        "\n",
        "        if numero < 0:\n",
        "            print(\"El factorial no está definido para números negativos. Intenta nuevamente.\")\n",
        "            continue\n",
        "\n",
        "        factorial = 1\n",
        "        i = 1\n",
        "        while i <= numero:\n",
        "            factorial *= i\n",
        "            i += 1\n",
        "\n",
        "        print(f\"El factorial de {numero} es: {factorial}\")\n",
        "\n",
        "        # Preguntar si el usuario desea calcular otro factorial\n",
        "        otro_factorial = input(\"\\n¿Deseas calcular otro factorial? (sí/no): \").lower()\n",
        "        if otro_factorial != \"sí\":\n",
        "            print(\"¡Gracias por usar el programa! Adiós.\")\n",
        "            break\n",
        "\n",
        "    except ValueError:\n",
        "        print(\"Por favor, ingresa un número válido. Intenta nuevamente.\")\n"
      ],
      "metadata": {
        "colab": {
          "base_uri": "https://localhost:8080/"
        },
        "id": "bYizEBc4Z0Mv",
        "outputId": "09f5c10a-aed1-453f-df38-04e2e77be5b5"
      },
      "execution_count": 9,
      "outputs": [
        {
          "output_type": "stream",
          "name": "stdout",
          "text": [
            "Ingresa un número para calcular su factorial: 34\n",
            "El factorial de 34 es: 295232799039604140847618609643520000000\n",
            "\n",
            "¿Deseas calcular otro factorial? (sí/no): no\n",
            "¡Gracias por usar el programa! Adiós.\n"
          ]
        }
      ]
    },
    {
      "cell_type": "code",
      "source": [
        "# Programa para mostrar los primeros n números de la serie Fibonacci\n",
        "\n",
        "while True:\n",
        "    try:\n",
        "        n = int(input(\"Ingresa un número n para mostrar los primeros n números de la serie Fibonacci: \"))\n",
        "\n",
        "        if n <= 0:\n",
        "            print(\"Por favor, ingresa un número positivo. Intenta nuevamente.\")\n",
        "            continue\n",
        "\n",
        "        # Inicializar los primeros dos números de la serie Fibonacci\n",
        "        a, b = 0, 1\n",
        "        contador = 1\n",
        "\n",
        "        print(\"Los primeros n números de la serie Fibonacci son:\")\n",
        "        while contador <= n:\n",
        "            print(a, end=\" \")\n",
        "            a, b = b, a + b\n",
        "            contador += 1\n",
        "\n",
        "        print()  # Salto de línea después de la serie Fibonacci\n",
        "\n",
        "        # Preguntar si el usuario desea ver otra serie\n",
        "        otra_fibonacci = input(\"\\n¿Deseas ver otra serie Fibonacci? (sí/no): \").lower()\n",
        "        if otra_fibonacci != \"sí\":\n",
        "            print(\"¡Gracias por usar el programa! Adiós.\")\n",
        "            break\n",
        "\n",
        "    except ValueError:\n",
        "        print(\"Por favor, ingresa un número válido. Intenta nuevamente.\")\n"
      ],
      "metadata": {
        "colab": {
          "base_uri": "https://localhost:8080/"
        },
        "id": "yG1bbyktZ7xA",
        "outputId": "952c49db-cb53-4aa3-b0e9-73c72d32f272"
      },
      "execution_count": 10,
      "outputs": [
        {
          "output_type": "stream",
          "name": "stdout",
          "text": [
            "Ingresa un número n para mostrar los primeros n números de la serie Fibonacci: 34\n",
            "Los primeros n números de la serie Fibonacci son:\n",
            "0 1 1 2 3 5 8 13 21 34 55 89 144 233 377 610 987 1597 2584 4181 6765 10946 17711 28657 46368 75025 121393 196418 317811 514229 832040 1346269 2178309 3524578 \n",
            "\n",
            "¿Deseas ver otra serie Fibonacci? (sí/no): no\n",
            "¡Gracias por usar el programa! Adiós.\n"
          ]
        }
      ]
    },
    {
      "cell_type": "code",
      "source": [
        "# Programa para determinar el tipo de triángulo según sus lados\n",
        "\n",
        "while True:\n",
        "    try:\n",
        "        # Solicitar los tres lados del triángulo\n",
        "        a = float(input(\"Ingresa el primer lado del triángulo: \"))\n",
        "        b = float(input(\"Ingresa el segundo lado del triángulo: \"))\n",
        "        c = float(input(\"Ingresa el tercer lado del triángulo: \"))\n",
        "\n",
        "        # Verificar que los lados sean positivos\n",
        "        if a <= 0 or b <= 0 or c <= 0:\n",
        "            print(\"Los lados deben ser números positivos. Intenta nuevamente.\")\n",
        "            continue\n",
        "\n",
        "        # Verificar si los tres lados cumplen con la condición para formar un triángulo\n",
        "        if a + b > c and a + c > b and b + c > a:\n",
        "            # Determinar el tipo de triángulo\n",
        "            lados = [a, b, c]\n",
        "            for lado in lados:\n",
        "                if lados.count(lado) == 3:\n",
        "                    tipo = \"Equilátero\"\n",
        "                    break\n",
        "                elif lados.count(lado) == 2:\n",
        "                    tipo = \"Isósceles\"\n",
        "                    break\n",
        "                else:\n",
        "                    tipo = \"Escaleno\"\n",
        "            print(f\"¡Sí! Los números pueden formar un triángulo {tipo}.\")\n",
        "        else:\n",
        "            print(\"No se puede formar un triángulo con estos números.\")\n",
        "\n",
        "        # Preguntar si el usuario quiere intentar con otros lados\n",
        "        otra_introduccion = input(\"\\n¿Quieres intentar con otros lados? (sí/no): \").lower()\n",
        "        if otra_introduccion != \"sí\":\n",
        "            print(\"¡Gracias por usar el programa! Adiós.\")\n",
        "            break\n",
        "\n",
        "    except ValueError:\n",
        "        print(\"Por favor, ingresa valores válidos. Intenta nuevamente.\")\n"
      ],
      "metadata": {
        "colab": {
          "base_uri": "https://localhost:8080/"
        },
        "id": "j5uAQC1QaBK0",
        "outputId": "9404a9e6-852d-4dde-d7e9-ec6b7cc8b249"
      },
      "execution_count": 11,
      "outputs": [
        {
          "output_type": "stream",
          "name": "stdout",
          "text": [
            "Ingresa el primer lado del triángulo: 2\n",
            "Ingresa el segundo lado del triángulo: 3\n",
            "Ingresa el tercer lado del triángulo: 1\n",
            "No se puede formar un triángulo con estos números.\n",
            "\n",
            "¿Quieres intentar con otros lados? (sí/no): no\n",
            "¡Gracias por usar el programa! Adiós.\n"
          ]
        }
      ]
    },
    {
      "cell_type": "code",
      "source": [
        "# Programa para calcular el IMC y determinar la categoría\n",
        "\n",
        "while True:\n",
        "    try:\n",
        "        nombre = input(\"Ingresa tu nombre: \")\n",
        "        peso = float(input(\"Ingresa tu peso en kilogramos (kg): \"))\n",
        "        altura = float(input(\"Ingresa tu altura en metros (m): \"))\n",
        "\n",
        "        # Validar que los datos sean positivos\n",
        "        if peso <= 0 or altura <= 0:\n",
        "            print(\"El peso y la altura deben ser números positivos. Intenta nuevamente.\")\n",
        "            continue\n",
        "\n",
        "        # Calcular el IMC\n",
        "        imc = peso / (altura ** 2)\n",
        "\n",
        "        # Determinar la categoría según el IMC\n",
        "        categorias = [\n",
        "            (18.5, \"Bajo peso\", \"Se recomienda una dieta balanceada y consultar a un médico para evaluar tu salud.\"),\n",
        "            (24.9, \"Normal\", \"Mantén un estilo de vida saludable y realiza ejercicio regularmente.\"),\n",
        "            (29.9, \"Sobrepeso\", \"Se recomienda llevar una dieta equilibrada y realizar más ejercicio físico.\"),\n",
        "            (float('inf'), \"Obesidad\", \"Es recomendable consultar a un médico para un plan adecuado de pérdida de peso.\")\n",
        "        ]\n",
        "\n",
        "        for limite, categoria, descripcion in categorias:\n",
        "            if imc <= limite:\n",
        "                print(f\"\\n{nombre}, tu IMC es {imc:.2f}. Tu categoría es: {categoria}. {descripcion}\")\n",
        "                break\n",
        "\n",
        "        # Preguntar si el usuario desea realizar otra consulta\n",
        "        otra_consulta = input(\"\\n¿Deseas realizar otra consulta? (sí/no): \").lower()\n",
        "        if otra_consulta != \"sí\":\n",
        "            print(\"¡Gracias por usar el programa! Adiós.\")\n",
        "            break\n",
        "\n",
        "    except ValueError:\n",
        "        print(\"Por favor, ingresa datos válidos. Intenta nuevamente.\")\n"
      ],
      "metadata": {
        "colab": {
          "base_uri": "https://localhost:8080/"
        },
        "id": "xLMBDtDHbRWg",
        "outputId": "63768238-8e04-4590-ea56-83cc8a92a20b"
      },
      "execution_count": 12,
      "outputs": [
        {
          "output_type": "stream",
          "name": "stdout",
          "text": [
            "Ingresa tu nombre: hugo\n",
            "Ingresa tu peso en kilogramos (kg): 85\n",
            "Ingresa tu altura en metros (m): 181\n",
            "\n",
            "hugo, tu IMC es 0.00. Tu categoría es: Bajo peso. Se recomienda una dieta balanceada y consultar a un médico para evaluar tu salud.\n",
            "\n",
            "¿Deseas realizar otra consulta? (sí/no): no\n",
            "¡Gracias por usar el programa! Adiós.\n"
          ]
        }
      ]
    },
    {
      "cell_type": "code",
      "source": [
        "# Programa para una calculadora simple\n",
        "\n",
        "while True:\n",
        "    try:\n",
        "        # Solicitar dos números\n",
        "        num1 = float(input(\"Ingresa el primer número: \"))\n",
        "        num2 = float(input(\"Ingresa el segundo número: \"))\n",
        "\n",
        "        # Mostrar las opciones de operación\n",
        "        operaciones = {\n",
        "            \"1\": (\"Sumar\", num1 + num2),\n",
        "            \"2\": (\"Restar\", num1 - num2),\n",
        "            \"3\": (\"Multiplicar\", num1 * num2),\n",
        "            \"4\": (\"Dividir\", num1 / num2 if num2 != 0 else \"Error: No se puede dividir entre cero.\")\n",
        "        }\n",
        "\n",
        "        # Mostrar operaciones disponibles\n",
        "        print(\"\\nOperaciones disponibles:\")\n",
        "        for clave, (nombre, _) in operaciones.items():\n",
        "            print(f\"{clave}. {nombre}\")\n",
        "\n",
        "        # Solicitar la operación\n",
        "        operacion = input(\"Elige la operación (1/2/3/4): \")\n",
        "\n",
        "        # Verificar si la operación es válida\n",
        "        if operacion in operaciones:\n",
        "            nombre, resultado = operaciones[operacion]\n",
        "            print(f\"\\nEl resultado de {nombre} es: {resultado}\")\n",
        "        else:\n",
        "            print(\"Opción no válida. Intenta nuevamente.\")\n",
        "            continue\n",
        "\n",
        "        # Preguntar si desea realizar otra operación\n",
        "        otra_operacion = input(\"\\n¿Deseas realizar otra operación? (sí/no): \").lower()\n",
        "        if otra_operacion != \"sí\":\n",
        "            print(\"¡Gracias por usar la calculadora! Adiós.\")\n",
        "            break\n",
        "\n",
        "    except ValueError:\n",
        "        print(\"Por favor, ingresa números válidos. Intenta nuevamente.\")\n"
      ],
      "metadata": {
        "colab": {
          "base_uri": "https://localhost:8080/"
        },
        "id": "hrATtwMfbZvV",
        "outputId": "2eab15b1-207a-4966-861f-d0b02883cdcc"
      },
      "execution_count": 13,
      "outputs": [
        {
          "output_type": "stream",
          "name": "stdout",
          "text": [
            "Ingresa el primer número: 1\n",
            "Ingresa el segundo número: 2\n",
            "\n",
            "Operaciones disponibles:\n",
            "1. Sumar\n",
            "2. Restar\n",
            "3. Multiplicar\n",
            "4. Dividir\n",
            "Elige la operación (1/2/3/4): 3\n",
            "\n",
            "El resultado de Multiplicar es: 2.0\n",
            "\n",
            "¿Deseas realizar otra operación? (sí/no): no\n",
            "¡Gracias por usar la calculadora! Adiós.\n"
          ]
        }
      ]
    },
    {
      "cell_type": "code",
      "source": [
        "# Programa para determinar la calificación en letras según una nota numérica\n",
        "\n",
        "while True:\n",
        "    try:\n",
        "        # Solicitar la nota\n",
        "        nota = float(input(\"Ingresa la nota (0-100): \"))\n",
        "\n",
        "        # Validar que la nota esté dentro del rango\n",
        "        if nota < 0 or nota > 100:\n",
        "            print(\"La nota debe estar entre 0 y 100. Intenta nuevamente.\")\n",
        "            continue\n",
        "\n",
        "        # Determinar la calificación en letras\n",
        "        rangos = [\n",
        "            (90, \"A\"),\n",
        "            (80, \"B\"),\n",
        "            (70, \"C\"),\n",
        "            (60, \"D\"),\n",
        "            (0, \"F\")\n",
        "        ]\n",
        "\n",
        "        for limite, calificacion in rangos:\n",
        "            if nota >= limite:\n",
        "                print(f\"La calificación es: {calificacion}\")\n",
        "                break\n",
        "\n",
        "        # Preguntar si desea ingresar otra nota\n",
        "        otra_nota = input(\"\\n¿Deseas ingresar otra nota? (sí/no): \").lower()\n",
        "        if otra_nota != \"sí\":\n",
        "            print(\"¡Gracias por usar el programa! Adiós.\")\n",
        "            break\n",
        "\n",
        "    except ValueError:\n",
        "        print(\"Por favor, ingresa una nota válida. Intenta nuevamente.\")\n"
      ],
      "metadata": {
        "colab": {
          "base_uri": "https://localhost:8080/"
        },
        "id": "ZCLQj_D4biOM",
        "outputId": "83d9733c-7186-4cde-8368-75425e56bb9d"
      },
      "execution_count": 15,
      "outputs": [
        {
          "output_type": "stream",
          "name": "stdout",
          "text": [
            "Ingresa la nota (0-100): 99\n",
            "La calificación es: A\n",
            "\n",
            "¿Deseas ingresar otra nota? (sí/no): no\n",
            "¡Gracias por usar el programa! Adiós.\n"
          ]
        }
      ]
    },
    {
      "cell_type": "code",
      "source": [
        "# Programa para determinar el día de la semana según un número (1-7)\n",
        "\n",
        "while True:\n",
        "    try:\n",
        "        # Solicitar el número\n",
        "        numero = int(input(\"Ingresa un número del 1 al 7 para conocer el día de la semana: \"))\n",
        "\n",
        "        # Validar que el número esté en el rango correcto\n",
        "        if numero < 1 or numero > 7:\n",
        "            print(\"Número inválido. Debes ingresar un número entre 1 y 7. Intenta nuevamente.\")\n",
        "            continue\n",
        "\n",
        "        # Días de la semana\n",
        "        dias = [\"Lunes\", \"Martes\", \"Miércoles\", \"Jueves\", \"Viernes\", \"Sábado\", \"Domingo\"]\n",
        "\n",
        "        print(f\"El día de la semana es: {dias[numero - 1]}\")\n",
        "\n",
        "        # Preguntar si desea ingresar otro número\n",
        "        otra_introduccion = input(\"\\n¿Deseas ingresar otro número? (sí/no): \").lower()\n",
        "        if otra_introduccion != \"sí\":\n",
        "            print(\"¡Gracias por usar el programa! Adiós.\")\n",
        "            break\n",
        "\n",
        "    except ValueError:\n",
        "        print(\"Por favor, ingresa un número válido. Intenta nuevamente.\")\n"
      ],
      "metadata": {
        "colab": {
          "base_uri": "https://localhost:8080/"
        },
        "id": "-MCuhbNebpbO",
        "outputId": "ac5d92a1-4d05-4e2f-a778-6319e9b6e78b"
      },
      "execution_count": 16,
      "outputs": [
        {
          "output_type": "stream",
          "name": "stdout",
          "text": [
            "Ingresa un número del 1 al 7 para conocer el día de la semana: 5\n",
            "El día de la semana es: Viernes\n",
            "\n",
            "¿Deseas ingresar otro número? (sí/no): no\n",
            "¡Gracias por usar el programa! Adiós.\n"
          ]
        }
      ]
    },
    {
      "cell_type": "code",
      "source": [
        "# Programa para validar si tres números pueden formar un triángulo y determinar su tipo\n",
        "\n",
        "while True:\n",
        "    try:\n",
        "        # Solicitar los tres lados del triángulo\n",
        "        a = float(input(\"Ingresa el primer lado del triángulo: \"))\n",
        "        b = float(input(\"Ingresa el segundo lado del triángulo: \"))\n",
        "        c = float(input(\"Ingresa el tercer lado del triángulo: \"))\n",
        "\n",
        "        # Verificar que los lados sean positivos\n",
        "        if a <= 0 or b <= 0 or c <= 0:\n",
        "            print(\"Los lados deben ser números positivos. Intenta nuevamente.\")\n",
        "            continue\n",
        "\n",
        "        # Verificar si los tres lados cumplen con la condición para formar un triángulo\n",
        "        if a + b > c and a + c > b and b + c > a:\n",
        "            lados = [a, b, c]\n",
        "            for lado in lados:\n",
        "                if lados.count(lado) == 3:\n",
        "                    tipo = \"Equilátero\"\n",
        "                    break\n",
        "                elif lados.count(lado) == 2:\n",
        "                    tipo = \"Isósceles\"\n",
        "                    break\n",
        "                else:\n",
        "                    tipo = \"Escaleno\"\n",
        "            print(f\"¡Sí! Los números pueden formar un triángulo {tipo}.\")\n",
        "        else:\n",
        "            print(\"No se puede formar un triángulo con estos números.\")\n",
        "\n",
        "        # Preguntar si el usuario quiere intentar con otros lados\n",
        "        otra_introduccion = input(\"\\n¿Quieres intentar con otros lados? (sí/no): \").lower()\n",
        "        if otra_introduccion != \"sí\":\n",
        "            print(\"¡Gracias por usar el programa! Adiós.\")\n",
        "            break\n",
        "\n",
        "    except ValueError:\n",
        "        print(\"Por favor, ingresa valores válidos. Intenta nuevamente.\")\n"
      ],
      "metadata": {
        "colab": {
          "base_uri": "https://localhost:8080/"
        },
        "id": "3pffGyoHbuUM",
        "outputId": "5531d687-4b24-483e-d874-7d899f7d6549"
      },
      "execution_count": 19,
      "outputs": [
        {
          "output_type": "stream",
          "name": "stdout",
          "text": [
            "Ingresa el primer lado del triángulo: 2\n",
            "Ingresa el segundo lado del triángulo: 2\n",
            "Ingresa el tercer lado del triángulo: 2\n",
            "¡Sí! Los números pueden formar un triángulo Equilátero.\n",
            "\n",
            "¿Quieres intentar con otros lados? (sí/no): no\n",
            "¡Gracias por usar el programa! Adiós.\n"
          ]
        }
      ]
    },
    {
      "cell_type": "code",
      "source": [
        "# Programa para mostrar la tabla de multiplicar de un número hasta el 10\n",
        "\n",
        "while True:\n",
        "    try:\n",
        "        num = int(input(\"Ingresa un número para mostrar su tabla de multiplicar: \"))\n",
        "\n",
        "        # Mostrar la tabla de multiplicar del número\n",
        "        print(f\"\\nTabla de multiplicar de {num}:\")\n",
        "        for i in range(1, 11):\n",
        "            print(f\"{num} x {i} = {num * i}\")\n",
        "\n",
        "        # Preguntar si el usuario desea realizar otra operación\n",
        "        otra_tabla = input(\"\\n¿Quieres ver otra tabla de multiplicar? (sí/no): \").lower()\n",
        "        if otra_tabla != \"sí\":\n",
        "            print(\"¡Gracias por usar el programa! Adiós.\")\n",
        "            break\n",
        "\n",
        "    except ValueError:\n",
        "        print(\"Por favor, ingresa un número válido. Intenta nuevamente.\")\n"
      ],
      "metadata": {
        "colab": {
          "base_uri": "https://localhost:8080/"
        },
        "id": "FVuzeyuDb3jZ",
        "outputId": "f826a417-1789-4d3e-fdee-d7c58f3a4c53"
      },
      "execution_count": 20,
      "outputs": [
        {
          "output_type": "stream",
          "name": "stdout",
          "text": [
            "Ingresa un número para mostrar su tabla de multiplicar: 5\n",
            "\n",
            "Tabla de multiplicar de 5:\n",
            "5 x 1 = 5\n",
            "5 x 2 = 10\n",
            "5 x 3 = 15\n",
            "5 x 4 = 20\n",
            "5 x 5 = 25\n",
            "5 x 6 = 30\n",
            "5 x 7 = 35\n",
            "5 x 8 = 40\n",
            "5 x 9 = 45\n",
            "5 x 10 = 50\n",
            "\n",
            "¿Quieres ver otra tabla de multiplicar? (sí/no): no\n",
            "¡Gracias por usar el programa! Adiós.\n"
          ]
        }
      ]
    },
    {
      "cell_type": "code",
      "source": [
        "# Programa para calcular la suma de números naturales hasta n\n",
        "\n",
        "while True:\n",
        "    try:\n",
        "        n = int(input(\"Ingresa un número entero positivo (n): \"))\n",
        "\n",
        "        # Validar que n sea positivo\n",
        "        if n < 1:\n",
        "            print(\"El número debe ser mayor o igual a 1. Intenta nuevamente.\")\n",
        "            continue\n",
        "\n",
        "        # Calcular la suma de los primeros n números naturales\n",
        "        suma = 0\n",
        "        for i in range(1, n + 1):\n",
        "            suma += i\n",
        "\n",
        "        print(f\"\\nLa suma de los números naturales hasta {n} es: {suma}\")\n",
        "\n",
        "        # Preguntar si el usuario desea realizar otro cálculo\n",
        "        otra_suma = input(\"\\n¿Quieres calcular la suma hasta otro número? (sí/no): \").lower()\n",
        "        if otra_suma != \"sí\":\n",
        "            print(\"¡Gracias por usar el programa! Adiós.\")\n",
        "            break\n",
        "\n",
        "    except ValueError:\n",
        "        print(\"Por favor, ingresa un número válido. Intenta nuevamente.\")\n"
      ],
      "metadata": {
        "colab": {
          "base_uri": "https://localhost:8080/"
        },
        "id": "QwFDL-JfcoMf",
        "outputId": "478af68e-e45c-4e21-cf33-705be35fd782"
      },
      "execution_count": 21,
      "outputs": [
        {
          "output_type": "stream",
          "name": "stdout",
          "text": [
            "Ingresa un número entero positivo (n): 46\n",
            "\n",
            "La suma de los números naturales hasta 46 es: 1081\n",
            "\n",
            "¿Quieres calcular la suma hasta otro número? (sí/no): no\n",
            "¡Gracias por usar el programa! Adiós.\n"
          ]
        }
      ]
    },
    {
      "cell_type": "code",
      "source": [
        "# Programa para calcular el factorial de un número\n",
        "\n",
        "while True:\n",
        "    try:\n",
        "        num = int(input(\"Ingresa un número para calcular su factorial: \"))\n",
        "\n",
        "        # Validar que el número no sea negativo\n",
        "        if num < 0:\n",
        "            print(\"El factorial no está definido para números negativos. Intenta nuevamente.\")\n",
        "            continue\n",
        "\n",
        "        # Calcular el factorial utilizando un ciclo for\n",
        "        factorial = 1\n",
        "        for i in range(1, num + 1):\n",
        "            factorial *= i\n",
        "\n",
        "        print(f\"\\nEl factorial de {num} es: {factorial}\")\n",
        "\n",
        "        # Preguntar si el usuario desea calcular otro factorial\n",
        "        otro_factorial = input(\"\\n¿Quieres calcular el factorial de otro número? (sí/no): \").lower()\n",
        "        if otro_factorial != \"sí\":\n",
        "            print(\"¡Gracias por usar el programa! Adiós.\")\n",
        "            break\n",
        "\n",
        "    except ValueError:\n",
        "        print(\"Por favor, ingresa un número válido. Intenta nuevamente.\")\n"
      ],
      "metadata": {
        "colab": {
          "base_uri": "https://localhost:8080/"
        },
        "id": "zrOuSMM5ctkG",
        "outputId": "43fb4a98-907c-4edc-9ad9-28d81165f729"
      },
      "execution_count": 22,
      "outputs": [
        {
          "output_type": "stream",
          "name": "stdout",
          "text": [
            "Ingresa un número para calcular su factorial: 4\n",
            "\n",
            "El factorial de 4 es: 24\n",
            "\n",
            "¿Quieres calcular el factorial de otro número? (sí/no): no\n",
            "¡Gracias por usar el programa! Adiós.\n"
          ]
        }
      ]
    },
    {
      "cell_type": "code",
      "source": [
        "# Programa para mostrar los primeros n números de la serie Fibonacci\n",
        "\n",
        "while True:\n",
        "    try:\n",
        "        n = int(input(\"Ingresa un número entero positivo (n) para mostrar los primeros n números de Fibonacci: \"))\n",
        "\n",
        "        # Validar que n sea positivo\n",
        "        if n < 1:\n",
        "            print(\"El número debe ser mayor o igual a 1. Intenta nuevamente.\")\n",
        "            continue\n",
        "\n",
        "        # Calcular y mostrar los primeros n números de la serie Fibonacci\n",
        "        fibonacci = [0, 1]\n",
        "        for i in range(2, n):\n",
        "            fibonacci.append(fibonacci[i - 1] + fibonacci[i - 2])\n",
        "\n",
        "        print(f\"\\nLos primeros {n} números de la serie Fibonacci son: {fibonacci[:n]}\")\n",
        "\n",
        "        # Preguntar si el usuario desea realizar otra consulta\n",
        "        otra_fibonacci = input(\"\\n¿Quieres ver otra serie de Fibonacci? (sí/no): \").lower()\n",
        "        if otra_fibonacci != \"sí\":\n",
        "            print(\"¡Gracias por usar el programa! Adiós.\")\n",
        "            break\n",
        "\n",
        "    except ValueError:\n",
        "        print(\"Por favor, ingresa un número válido. Intenta nuevamente.\")\n"
      ],
      "metadata": {
        "colab": {
          "base_uri": "https://localhost:8080/"
        },
        "id": "JpdS-FiGdAoP",
        "outputId": "7e2c51ca-d35b-4451-d359-db23465b8630"
      },
      "execution_count": 23,
      "outputs": [
        {
          "output_type": "stream",
          "name": "stdout",
          "text": [
            "Ingresa un número entero positivo (n) para mostrar los primeros n números de Fibonacci: 56\n",
            "\n",
            "Los primeros 56 números de la serie Fibonacci son: [0, 1, 1, 2, 3, 5, 8, 13, 21, 34, 55, 89, 144, 233, 377, 610, 987, 1597, 2584, 4181, 6765, 10946, 17711, 28657, 46368, 75025, 121393, 196418, 317811, 514229, 832040, 1346269, 2178309, 3524578, 5702887, 9227465, 14930352, 24157817, 39088169, 63245986, 102334155, 165580141, 267914296, 433494437, 701408733, 1134903170, 1836311903, 2971215073, 4807526976, 7778742049, 12586269025, 20365011074, 32951280099, 53316291173, 86267571272, 139583862445]\n",
            "\n",
            "¿Quieres ver otra serie de Fibonacci? (sí/no): no\n",
            "¡Gracias por usar el programa! Adiós.\n"
          ]
        }
      ]
    }
  ]
}